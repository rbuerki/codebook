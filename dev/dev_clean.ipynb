{
 "cells": [
  {
   "cell_type": "markdown",
   "metadata": {
    "toc": true
   },
   "source": [
    "<h1>Table of Contents<span class=\"tocSkip\"></span></h1>\n",
    "<div class=\"toc\"><ul class=\"toc-item\"><li><span><a href=\"#Load-Data\" data-toc-modified-id=\"Load-Data-1\"><span class=\"toc-item-num\">1&nbsp;&nbsp;</span>Load Data</a></span></li><li><span><a href=\"#Demo-of-Cleaning-Functions\" data-toc-modified-id=\"Demo-of-Cleaning-Functions-2\"><span class=\"toc-item-num\">2&nbsp;&nbsp;</span>Demo of Cleaning Functions</a></span><ul class=\"toc-item\"><li><span><a href=\"#Columns\" data-toc-modified-id=\"Columns-2.1\"><span class=\"toc-item-num\">2.1&nbsp;&nbsp;</span>Columns</a></span></li><li><span><a href=\"#Distributions\" data-toc-modified-id=\"Distributions-2.2\"><span class=\"toc-item-num\">2.2&nbsp;&nbsp;</span>Distributions</a></span></li><li><span><a href=\"#Correlations\" data-toc-modified-id=\"Correlations-2.3\"><span class=\"toc-item-num\">2.3&nbsp;&nbsp;</span>Correlations</a></span></li></ul></li></ul></div>"
   ]
  },
  {
   "cell_type": "code",
   "execution_count": 1,
   "metadata": {
    "ExecuteTime": {
     "end_time": "2020-10-28T20:48:33.856596Z",
     "start_time": "2020-10-28T20:48:32.705446Z"
    }
   },
   "outputs": [],
   "source": [
    "import datetime as dt\n",
    "import sys\n",
    "from pathlib import Path\n",
    "\n",
    "import numpy as np\n",
    "import pandas as pd\n",
    "import matplotlib.pyplot as plt\n",
    "import seaborn as sns"
   ]
  },
  {
   "cell_type": "code",
   "execution_count": 2,
   "metadata": {
    "ExecuteTime": {
     "end_time": "2020-10-28T20:48:33.875605Z",
     "start_time": "2020-10-28T20:48:33.856596Z"
    }
   },
   "outputs": [
    {
     "name": "stdout",
     "output_type": "stream",
     "text": [
      "C:\\Users\\r2d4\\miniconda3\\envs\\py3\\python.exe\n",
      "3.8.3 (default, May 19 2020, 06:50:17) [MSC v.1916 64 bit (AMD64)]\n",
      "Pandas 1.1.3\n",
      "Seaborn 0.11.0\n"
     ]
    }
   ],
   "source": [
    "print(sys.executable)\n",
    "print(sys.version)\n",
    "print(f\"Pandas {pd.__version__}\")\n",
    "print(f\"Seaborn {sns.__version__}\")"
   ]
  },
  {
   "cell_type": "code",
   "execution_count": 3,
   "metadata": {
    "ExecuteTime": {
     "end_time": "2020-10-28T20:48:34.171719Z",
     "start_time": "2020-10-28T20:48:34.168577Z"
    }
   },
   "outputs": [],
   "source": [
    "sys.path.append(str(Path.cwd().parent / 'src'))"
   ]
  },
  {
   "cell_type": "code",
   "execution_count": 4,
   "metadata": {
    "ExecuteTime": {
     "end_time": "2020-10-28T20:48:35.159045Z",
     "start_time": "2020-10-28T20:48:35.024072Z"
    }
   },
   "outputs": [],
   "source": [
    "%load_ext autoreload\n",
    "%autoreload 2\n",
    "\n",
    "%matplotlib inline\n",
    "# %config InlineBackend.figure_format = 'svg'\n",
    "plt.style.use('raph-base')\n",
    "\n",
    "from IPython.core.interactiveshell import InteractiveShell\n",
    "InteractiveShell.ast_node_interactivity = 'all'\n",
    "\n",
    "pd.set_option('precision', 2)\n",
    "pd.set_option('display.max_columns', 30)\n",
    "pd.set_option('display.expand_frame_repr', False)\n",
    "pd.set_option('max_colwidth', 800)"
   ]
  },
  {
   "cell_type": "code",
   "execution_count": 5,
   "metadata": {
    "ExecuteTime": {
     "end_time": "2020-10-28T20:48:43.714874Z",
     "start_time": "2020-10-28T20:48:43.566915Z"
    }
   },
   "outputs": [],
   "source": [
    "import src.clean as clean"
   ]
  },
  {
   "cell_type": "markdown",
   "metadata": {},
   "source": [
    "## Load Data"
   ]
  },
  {
   "cell_type": "code",
   "execution_count": 6,
   "metadata": {
    "ExecuteTime": {
     "end_time": "2020-10-28T20:48:50.113797Z",
     "start_time": "2020-10-28T20:48:49.927830Z"
    }
   },
   "outputs": [],
   "source": [
    "df = pd.read_csv(\"../data/realWorldTestData.csv\", \n",
    "                 low_memory=False, \n",
    "                 nrows=1000,\n",
    "                 usecols=[0, 1, 2, 3, 4, 5, 6, 7, 8, 9, 10, 11, 12]\n",
    "                 )\n",
    "\n",
    "df[\"target_num\"] = np.where(df[\"target_event\"] == \"ACTIVE\", 1, 0)"
   ]
  },
  {
   "cell_type": "code",
   "execution_count": 7,
   "metadata": {
    "ExecuteTime": {
     "end_time": "2020-10-28T20:48:50.669271Z",
     "start_time": "2020-10-28T20:48:50.550432Z"
    }
   },
   "outputs": [
    {
     "name": "stdout",
     "output_type": "stream",
     "text": [
      "<class 'pandas.core.frame.DataFrame'>\n",
      "RangeIndex: 1000 entries, 0 to 999\n",
      "Data columns (total 14 columns):\n",
      " #   Column                         Non-Null Count  Dtype  \n",
      "---  ------                         --------------  -----  \n",
      " 0   car_nr                         1000 non-null   float64\n",
      " 1   ref_dt                         1000 non-null   object \n",
      " 2   target_event                   1000 non-null   object \n",
      " 3   NUM_CONSEC_SERVICES            1000 non-null   int64  \n",
      " 4   SUM_INVOICE_AMOUNT_IN_SERVICE  1000 non-null   float64\n",
      " 5   SUM_INVOICE_AMOUNT             1000 non-null   float64\n",
      " 6   NUM_EVENTS                     1000 non-null   int64  \n",
      " 7   FIRST_EVT                      1000 non-null   object \n",
      " 8   LAST_EVT                       1000 non-null   object \n",
      " 9   LAST_MILEAGE                   1000 non-null   float64\n",
      " 10  MEAN_MILEAGE_PER_MNTH          1000 non-null   float64\n",
      " 11  AVG_DIFF_MNTH                  1000 non-null   int64  \n",
      " 12  age_mnth                       1000 non-null   int64  \n",
      " 13  target_num                     1000 non-null   int32  \n",
      "dtypes: float64(5), int32(1), int64(4), object(4)\n",
      "memory usage: 105.6+ KB\n"
     ]
    }
   ],
   "source": [
    "df.info()"
   ]
  },
  {
   "cell_type": "markdown",
   "metadata": {},
   "source": [
    "## Demo of Cleaning Functions \n",
    "### Columns"
   ]
  },
  {
   "cell_type": "code",
   "execution_count": 9,
   "metadata": {
    "ExecuteTime": {
     "end_time": "2020-10-28T20:49:34.337079Z",
     "start_time": "2020-10-28T20:49:34.214882Z"
    }
   },
   "outputs": [
    {
     "data": {
      "text/plain": [
       "Index(['car_nr', 'ref_dt', 'target_event', 'num_consec_services',\n",
       "       'sum_invoice_amount_in_service', 'sum_invoice_amount', 'num_events',\n",
       "       'first_evt', 'last_evt', 'last_mileage', 'mean_mileage_per_mnth',\n",
       "       'avg_diff_mnth', 'age_mnth', 'target_num'],\n",
       "      dtype='object')"
      ]
     },
     "execution_count": 9,
     "metadata": {},
     "output_type": "execute_result"
    }
   ],
   "source": [
    "df = clean.prettify_column_names(df)\n",
    "\n",
    "# Show result\n",
    "df.columns"
   ]
  },
  {
   "cell_type": "code",
   "execution_count": 32,
   "metadata": {
    "ExecuteTime": {
     "end_time": "2020-10-28T21:02:37.141606Z",
     "start_time": "2020-10-28T21:02:36.999629Z"
    }
   },
   "outputs": [
    {
     "data": {
      "text/html": [
       "<div>\n",
       "<style scoped>\n",
       "    .dataframe tbody tr th:only-of-type {\n",
       "        vertical-align: middle;\n",
       "    }\n",
       "\n",
       "    .dataframe tbody tr th {\n",
       "        vertical-align: top;\n",
       "    }\n",
       "\n",
       "    .dataframe thead th {\n",
       "        text-align: right;\n",
       "    }\n",
       "</style>\n",
       "<table border=\"1\" class=\"dataframe\">\n",
       "  <thead>\n",
       "    <tr style=\"text-align: right;\">\n",
       "      <th></th>\n",
       "      <th># cols</th>\n",
       "    </tr>\n",
       "  </thead>\n",
       "  <tbody>\n",
       "    <tr>\n",
       "      <th>float64</th>\n",
       "      <td>5</td>\n",
       "    </tr>\n",
       "    <tr>\n",
       "      <th>object</th>\n",
       "      <td>4</td>\n",
       "    </tr>\n",
       "    <tr>\n",
       "      <th>int64</th>\n",
       "      <td>4</td>\n",
       "    </tr>\n",
       "    <tr>\n",
       "      <th>int32</th>\n",
       "      <td>1</td>\n",
       "    </tr>\n",
       "  </tbody>\n",
       "</table>\n",
       "</div>"
      ],
      "text/plain": [
       "         # cols\n",
       "float64       5\n",
       "object        4\n",
       "int64         4\n",
       "int32         1"
      ]
     },
     "metadata": {},
     "output_type": "display_data"
    }
   ],
   "source": [
    "clean.count_dtypes(df)"
   ]
  }
 ],
 "metadata": {
  "hide_input": false,
  "kernelspec": {
   "display_name": "Python 3",
   "language": "python",
   "name": "python3"
  },
  "language_info": {
   "codemirror_mode": {
    "name": "ipython",
    "version": 3
   },
   "file_extension": ".py",
   "mimetype": "text/x-python",
   "name": "python",
   "nbconvert_exporter": "python",
   "pygments_lexer": "ipython3",
   "version": "3.8.3"
  },
  "toc": {
   "base_numbering": 1,
   "nav_menu": {},
   "number_sections": true,
   "sideBar": false,
   "skip_h1_title": true,
   "title_cell": "Table of Contents",
   "title_sidebar": "Contents",
   "toc_cell": true,
   "toc_position": {},
   "toc_section_display": true,
   "toc_window_display": false
  }
 },
 "nbformat": 4,
 "nbformat_minor": 4
}
