{
 "cells": [
  {
   "cell_type": "markdown",
   "metadata": {
    "toc": true
   },
   "source": [
    "<h1>Table of Contents<span class=\"tocSkip\"></span></h1>\n",
    "<div class=\"toc\"><ul class=\"toc-item\"><li><span><a href=\"#Load-Data\" data-toc-modified-id=\"Load-Data-1\"><span class=\"toc-item-num\">1&nbsp;&nbsp;</span>Load Data</a></span></li><li><span><a href=\"#Demo-of-Cleaning-Functions\" data-toc-modified-id=\"Demo-of-Cleaning-Functions-2\"><span class=\"toc-item-num\">2&nbsp;&nbsp;</span>Demo of Cleaning Functions</a></span><ul class=\"toc-item\"><li><span><a href=\"#Columns\" data-toc-modified-id=\"Columns-2.1\"><span class=\"toc-item-num\">2.1&nbsp;&nbsp;</span>Columns</a></span></li><li><span><a href=\"#Missing-Values\" data-toc-modified-id=\"Missing-Values-2.2\"><span class=\"toc-item-num\">2.2&nbsp;&nbsp;</span>Missing Values</a></span></li><li><span><a href=\"#Duplicates\" data-toc-modified-id=\"Duplicates-2.3\"><span class=\"toc-item-num\">2.3&nbsp;&nbsp;</span>Duplicates</a></span></li><li><span><a href=\"#Outliers\" data-toc-modified-id=\"Outliers-2.4\"><span class=\"toc-item-num\">2.4&nbsp;&nbsp;</span>Outliers</a></span></li><li><span><a href=\"#Transformations\" data-toc-modified-id=\"Transformations-2.5\"><span class=\"toc-item-num\">2.5&nbsp;&nbsp;</span>Transformations</a></span></li></ul></li></ul></div>"
   ]
  },
  {
   "cell_type": "code",
   "execution_count": 1,
   "metadata": {
    "ExecuteTime": {
     "end_time": "2020-11-05T20:59:07.043966Z",
     "start_time": "2020-11-05T20:59:04.905921Z"
    }
   },
   "outputs": [],
   "source": [
    "import datetime as dt\n",
    "import sys\n",
    "from pathlib import Path\n",
    "\n",
    "import numpy as np\n",
    "import pandas as pd\n",
    "import matplotlib.pyplot as plt\n",
    "import seaborn as sns"
   ]
  },
  {
   "cell_type": "code",
   "execution_count": 2,
   "metadata": {
    "ExecuteTime": {
     "end_time": "2020-11-05T20:59:07.069387Z",
     "start_time": "2020-11-05T20:59:07.045544Z"
    }
   },
   "outputs": [
    {
     "name": "stdout",
     "output_type": "stream",
     "text": [
      "C:\\Users\\r2d4\\miniconda3\\envs\\py3\\python.exe\n",
      "3.8.3 (default, May 19 2020, 06:50:17) [MSC v.1916 64 bit (AMD64)]\n",
      "Pandas 1.1.3\n",
      "Seaborn 0.11.0\n"
     ]
    }
   ],
   "source": [
    "print(sys.executable)\n",
    "print(sys.version)\n",
    "print(f\"Pandas {pd.__version__}\")\n",
    "print(f\"Seaborn {sns.__version__}\")"
   ]
  },
  {
   "cell_type": "code",
   "execution_count": 3,
   "metadata": {
    "ExecuteTime": {
     "end_time": "2020-11-05T20:59:07.956640Z",
     "start_time": "2020-11-05T20:59:07.946599Z"
    }
   },
   "outputs": [],
   "source": [
    "sys.path.append(str(Path.cwd().parent / 'src'))"
   ]
  },
  {
   "cell_type": "code",
   "execution_count": 4,
   "metadata": {
    "ExecuteTime": {
     "end_time": "2020-11-05T20:59:09.104507Z",
     "start_time": "2020-11-05T20:59:08.872931Z"
    }
   },
   "outputs": [],
   "source": [
    "%load_ext autoreload\n",
    "%autoreload 2\n",
    "\n",
    "%matplotlib inline\n",
    "# %config InlineBackend.figure_format = 'svg'\n",
    "plt.style.use('raph-base')\n",
    "\n",
    "from IPython.core.interactiveshell import InteractiveShell\n",
    "InteractiveShell.ast_node_interactivity = 'all'\n",
    "\n",
    "pd.set_option('precision', 2)\n",
    "pd.set_option('display.max_columns', 30)\n",
    "pd.set_option('display.expand_frame_repr', False)\n",
    "pd.set_option('max_colwidth', 800)"
   ]
  },
  {
   "cell_type": "code",
   "execution_count": 5,
   "metadata": {
    "ExecuteTime": {
     "end_time": "2020-11-05T20:59:10.454044Z",
     "start_time": "2020-11-05T20:59:10.194390Z"
    }
   },
   "outputs": [],
   "source": [
    "import src.clean as clean"
   ]
  },
  {
   "cell_type": "markdown",
   "metadata": {},
   "source": [
    "## Load Data"
   ]
  },
  {
   "cell_type": "code",
   "execution_count": 6,
   "metadata": {
    "ExecuteTime": {
     "end_time": "2020-11-05T20:59:12.809328Z",
     "start_time": "2020-11-05T20:59:12.484291Z"
    }
   },
   "outputs": [],
   "source": [
    "df = pd.read_csv(\"../data/realWorldTestData.csv\", \n",
    "                 low_memory=False, \n",
    "                 nrows=1000,\n",
    "                 usecols=[0, 1, 2, 3, 4, 5, 6, 7, 8, 9, 10, 11, 12]\n",
    "                 )\n",
    "\n",
    "df[\"target_num\"] = np.where(df[\"target_event\"] == \"ACTIVE\", 1, 0)"
   ]
  },
  {
   "cell_type": "code",
   "execution_count": 7,
   "metadata": {
    "ExecuteTime": {
     "end_time": "2020-11-05T20:59:14.385037Z",
     "start_time": "2020-11-05T20:59:14.128581Z"
    }
   },
   "outputs": [
    {
     "name": "stdout",
     "output_type": "stream",
     "text": [
      "<class 'pandas.core.frame.DataFrame'>\n",
      "RangeIndex: 1000 entries, 0 to 999\n",
      "Data columns (total 14 columns):\n",
      " #   Column                         Non-Null Count  Dtype  \n",
      "---  ------                         --------------  -----  \n",
      " 0   car_nr                         1000 non-null   float64\n",
      " 1   ref_dt                         1000 non-null   object \n",
      " 2   target_event                   1000 non-null   object \n",
      " 3   NUM_CONSEC_SERVICES            1000 non-null   int64  \n",
      " 4   SUM_INVOICE_AMOUNT_IN_SERVICE  1000 non-null   float64\n",
      " 5   SUM_INVOICE_AMOUNT             1000 non-null   float64\n",
      " 6   NUM_EVENTS                     1000 non-null   int64  \n",
      " 7   FIRST_EVT                      1000 non-null   object \n",
      " 8   LAST_EVT                       1000 non-null   object \n",
      " 9   LAST_MILEAGE                   1000 non-null   float64\n",
      " 10  MEAN_MILEAGE_PER_MNTH          1000 non-null   float64\n",
      " 11  AVG_DIFF_MNTH                  1000 non-null   int64  \n",
      " 12  age_mnth                       1000 non-null   int64  \n",
      " 13  target_num                     1000 non-null   int32  \n",
      "dtypes: float64(5), int32(1), int64(4), object(4)\n",
      "memory usage: 105.6+ KB\n"
     ]
    }
   ],
   "source": [
    "df.info()"
   ]
  },
  {
   "cell_type": "markdown",
   "metadata": {},
   "source": [
    "## Demo of Cleaning Functions \n",
    "### Columns"
   ]
  },
  {
   "cell_type": "code",
   "execution_count": 8,
   "metadata": {
    "ExecuteTime": {
     "end_time": "2020-11-05T20:59:16.269706Z",
     "start_time": "2020-11-05T20:59:16.065578Z"
    }
   },
   "outputs": [
    {
     "data": {
      "text/plain": [
       "Index(['car_nr', 'ref_dt', 'target_event', 'num_consec_services',\n",
       "       'sum_invoice_amount_in_service', 'sum_invoice_amount', 'num_events',\n",
       "       'first_evt', 'last_evt', 'last_mileage', 'mean_mileage_per_mnth',\n",
       "       'avg_diff_mnth', 'age_mnth', 'target_num'],\n",
       "      dtype='object')"
      ]
     },
     "execution_count": 8,
     "metadata": {},
     "output_type": "execute_result"
    }
   ],
   "source": [
    "df = clean.prettify_column_names(df)\n",
    "\n",
    "# Show result\n",
    "df.columns"
   ]
  },
  {
   "cell_type": "code",
   "execution_count": 9,
   "metadata": {
    "ExecuteTime": {
     "end_time": "2020-11-05T20:59:17.579698Z",
     "start_time": "2020-11-05T20:59:17.345465Z"
    }
   },
   "outputs": [
    {
     "data": {
      "text/html": [
       "<div>\n",
       "<style scoped>\n",
       "    .dataframe tbody tr th:only-of-type {\n",
       "        vertical-align: middle;\n",
       "    }\n",
       "\n",
       "    .dataframe tbody tr th {\n",
       "        vertical-align: top;\n",
       "    }\n",
       "\n",
       "    .dataframe thead th {\n",
       "        text-align: right;\n",
       "    }\n",
       "</style>\n",
       "<table border=\"1\" class=\"dataframe\">\n",
       "  <thead>\n",
       "    <tr style=\"text-align: right;\">\n",
       "      <th></th>\n",
       "      <th># cols</th>\n",
       "    </tr>\n",
       "  </thead>\n",
       "  <tbody>\n",
       "    <tr>\n",
       "      <th>float64</th>\n",
       "      <td>5</td>\n",
       "    </tr>\n",
       "    <tr>\n",
       "      <th>object</th>\n",
       "      <td>4</td>\n",
       "    </tr>\n",
       "    <tr>\n",
       "      <th>int64</th>\n",
       "      <td>4</td>\n",
       "    </tr>\n",
       "    <tr>\n",
       "      <th>int32</th>\n",
       "      <td>1</td>\n",
       "    </tr>\n",
       "  </tbody>\n",
       "</table>\n",
       "</div>"
      ],
      "text/plain": [
       "         # cols\n",
       "float64       5\n",
       "object        4\n",
       "int64         4\n",
       "int32         1"
      ]
     },
     "metadata": {},
     "output_type": "display_data"
    }
   ],
   "source": [
    "clean.count_dtypes(df)"
   ]
  },
  {
   "cell_type": "code",
   "execution_count": 10,
   "metadata": {
    "ExecuteTime": {
     "end_time": "2020-11-05T20:59:20.079483Z",
     "start_time": "2020-11-05T20:59:19.856668Z"
    }
   },
   "outputs": [],
   "source": [
    "# `clean.change_dtypes` is not available for the moment. Code sucks ..."
   ]
  },
  {
   "cell_type": "code",
   "execution_count": 11,
   "metadata": {
    "ExecuteTime": {
     "end_time": "2020-11-05T20:59:21.176779Z",
     "start_time": "2020-11-05T20:59:20.945374Z"
    }
   },
   "outputs": [
    {
     "name": "stdout",
     "output_type": "stream",
     "text": [
      "Column target_num successfully deleted.\n",
      "Column first_evt successfully deleted.\n"
     ]
    }
   ],
   "source": [
    "df_del = clean.delete_columns(df, cols_to_delete=[\"target_num\", \"first_evt\"])\n",
    "\n",
    "assert df_del.shape[1] == (df.shape[1] - 2)"
   ]
  },
  {
   "cell_type": "markdown",
   "metadata": {},
   "source": [
    "### Missing Values"
   ]
  },
  {
   "cell_type": "code",
   "execution_count": 12,
   "metadata": {
    "ExecuteTime": {
     "end_time": "2020-11-05T20:59:24.362733Z",
     "start_time": "2020-11-05T20:59:23.611085Z"
    }
   },
   "outputs": [
    {
     "data": {
      "image/png": "[encoded data removed]",
      "text/plain": [
       "<Figure size 1008x432 with 1 Axes>"
      ]
     },
     "metadata": {},
     "output_type": "display_data"
    }
   ],
   "source": [
    "df.loc[:100, \"ref_dt\"] = np.nan  # create some NaN values\n",
    "\n",
    "clean.plot_nan(df)"
   ]
  },
  {
   "cell_type": "code",
   "execution_count": 14,
   "metadata": {
    "ExecuteTime": {
     "end_time": "2020-11-05T21:00:03.196641Z",
     "start_time": "2020-11-05T21:00:02.941269Z"
    }
   },
   "outputs": [
    {
     "data": {
      "text/html": [
       "<style  type=\"text/css\" >\n",
       "</style><table id=\"T_dfef806b_1fa9_11eb_81ed_60f67737a0fe\" ><thead>    <tr>        <th class=\"blank level0\" ></th>        <th class=\"col_heading level0 col0\" >total</th>        <th class=\"col_heading level0 col1\" >prop</th>        <th class=\"col_heading level0 col2\" >dtype</th>    </tr></thead><tbody>\n",
       "                <tr>\n",
       "                        <th id=\"T_dfef806b_1fa9_11eb_81ed_60f67737a0felevel0_row0\" class=\"row_heading level0 row0\" >ref_dt</th>\n",
       "                        <td id=\"T_dfef806b_1fa9_11eb_81ed_60f67737a0ferow0_col0\" class=\"data row0 col0\" >101</td>\n",
       "                        <td id=\"T_dfef806b_1fa9_11eb_81ed_60f67737a0ferow0_col1\" class=\"data row0 col1\" >10.1%</td>\n",
       "                        <td id=\"T_dfef806b_1fa9_11eb_81ed_60f67737a0ferow0_col2\" class=\"data row0 col2\" >object</td>\n",
       "            </tr>\n",
       "    </tbody></table>"
      ],
      "text/plain": [
       "<pandas.io.formats.style.Styler at 0x1193938bc70>"
      ]
     },
     "metadata": {},
     "output_type": "display_data"
    }
   ],
   "source": [
    "clean.list_nan(df)"
   ]
  },
  {
   "cell_type": "code",
   "execution_count": null,
   "metadata": {},
   "outputs": [],
   "source": [
    "## clean.handle_nan(df) - IMPLEMENT PLEASE"
   ]
  },
  {
   "cell_type": "markdown",
   "metadata": {},
   "source": [
    "### Duplicates"
   ]
  },
  {
   "cell_type": "code",
   "execution_count": 18,
   "metadata": {
    "ExecuteTime": {
     "end_time": "2020-11-02T21:10:43.183421Z",
     "start_time": "2020-11-02T21:10:42.939238Z"
    }
   },
   "outputs": [
    {
     "name": "stdout",
     "output_type": "stream",
     "text": [
      "Number of column-wise duplicates per column:\n",
      "- car_nr: 1 unique duplicated values (2 duplicated rows)\n",
      "- ref_dt: 231 unique duplicated values (760 duplicated rows)\n",
      "- target_event: 2 unique duplicated values (1000 duplicated rows)\n",
      "- num_consec_services: 8 unique duplicated values (998 duplicated rows)\n",
      "- sum_invoice_amount_in_service: 3 unique duplicated values (956 duplicated rows)\n",
      "- sum_invoice_amount: 23 unique duplicated values (309 duplicated rows)\n",
      "- num_events: 32 unique duplicated values (995 duplicated rows)\n",
      "- first_evt: 189 unique duplicated values (462 duplicated rows)\n",
      "- last_evt: 251 unique duplicated values (707 duplicated rows)\n",
      "- last_mileage: 6 unique duplicated values (15 duplicated rows)\n",
      "- mean_mileage_per_mnth: 1 unique duplicated values (2 duplicated rows)\n",
      "- avg_diff_mnth: 14 unique duplicated values (998 duplicated rows)\n",
      "- age_mnth: 100 unique duplicated values (997 duplicated rows)\n",
      "- target_num: 2 unique duplicated values (1000 duplicated rows)\n"
     ]
    }
   ],
   "source": [
    "clean.list_duplicates(df)"
   ]
  },
  {
   "cell_type": "markdown",
   "metadata": {},
   "source": [
    "### Outliers"
   ]
  },
  {
   "cell_type": "code",
   "execution_count": 19,
   "metadata": {
    "ExecuteTime": {
     "end_time": "2020-11-02T21:12:07.799409Z",
     "start_time": "2020-11-02T21:12:07.639065Z"
    }
   },
   "outputs": [
    {
     "name": "stdout",
     "output_type": "stream",
     "text": [
      "\n",
      "car_nr:\n",
      " - upper cut-off value: 158,944,559.00\n",
      " - lower cut-off value: 84,317,216.50\n",
      " - Identified outliers: 275\n",
      " - of total values: 27.5%\n",
      "\n",
      "num_consec_services:\n",
      " - upper cut-off value: 7.00\n",
      " - lower cut-off value: -3.00\n",
      " - Identified outliers: 6\n",
      " - of total values: 0.6%\n",
      "\n",
      "sum_invoice_amount_in_service:\n",
      " - upper cut-off value: 0.00\n",
      " - lower cut-off value: 0.00\n",
      " - Identified outliers: 69\n",
      " - of total values: 6.9%\n",
      "\n",
      "sum_invoice_amount:\n",
      " - upper cut-off value: 4,930.24\n",
      " - lower cut-off value: -3,286.83\n",
      " - Identified outliers: 35\n",
      " - of total values: 3.5%\n",
      "\n",
      "num_events:\n",
      " - upper cut-off value: 31.75\n",
      " - lower cut-off value: -9.50\n",
      " - Identified outliers: 14\n",
      " - of total values: 1.4%\n",
      "\n",
      "last_mileage:\n",
      " - upper cut-off value: 172,933.25\n",
      " - lower cut-off value: -69,011.75\n",
      " - Identified outliers: 14\n",
      " - of total values: 1.4%\n",
      "\n",
      "mean_mileage_per_mnth:\n",
      " - upper cut-off value: 2,912.81\n",
      " - lower cut-off value: -730.05\n",
      " - Identified outliers: 19\n",
      " - of total values: 1.9%\n",
      "\n",
      "avg_diff_mnth:\n",
      " - upper cut-off value: 9.00\n",
      " - lower cut-off value: -1.00\n",
      " - Identified outliers: 22\n",
      " - of total values: 2.2%\n"
     ]
    }
   ],
   "source": [
    "clean.count_outliers_IQR_method(df, iqr_dist=2)"
   ]
  },
  {
   "cell_type": "code",
   "execution_count": 20,
   "metadata": {
    "ExecuteTime": {
     "end_time": "2020-11-02T21:14:04.051105Z",
     "start_time": "2020-11-02T21:14:03.920105Z"
    }
   },
   "outputs": [
    {
     "name": "stdout",
     "output_type": "stream",
     "text": [
      "\n",
      "num_events: \n",
      "Rows to remove: 14\n",
      "\n",
      "\n",
      "mean_mileage_per_mnth: \n",
      "Rows to remove: 19\n",
      "\n",
      "\n",
      "Rows removed in total: 33\n",
      "(Percentage of original DataFrame: 3.3%)\n"
     ]
    }
   ],
   "source": [
    "df_outliers, deleted_idx = clean.remove_outliers_IQR_method(\n",
    "    df,\n",
    "    outlier_cols=[\"num_events\", \"mean_mileage_per_mnth\"],\n",
    "    iqr_dist=2,\n",
    "    return_idx_deleted=True\n",
    ")"
   ]
  },
  {
   "cell_type": "code",
   "execution_count": 23,
   "metadata": {
    "ExecuteTime": {
     "end_time": "2020-11-02T21:15:20.974399Z",
     "start_time": "2020-11-02T21:15:20.847397Z"
    }
   },
   "outputs": [
    {
     "name": "stdout",
     "output_type": "stream",
     "text": [
      "[257, 405, 282, 283, 801, 418, 422, 40, 552, 300, 306, 307, 180, 309, 59, 192, 833, 836, 710, 200, 841, 75, 334, 718, 80, 210, 980, 599, 730, 739, 885, 758, 887]\n"
     ]
    }
   ],
   "source": [
    "# Because we set the return_idx_deleted param to true we also got the index values of the deleted rows back\n",
    "\n",
    "assert len(deleted_idx) == (len(df) - len(df_outliers))\n",
    "print(deleted_idx)"
   ]
  },
  {
   "cell_type": "markdown",
   "metadata": {},
   "source": [
    "### Transformations"
   ]
  },
  {
   "cell_type": "code",
   "execution_count": null,
   "metadata": {},
   "outputs": [],
   "source": []
  }
 ],
 "metadata": {
  "hide_input": false,
  "kernelspec": {
   "display_name": "Python 3",
   "language": "python",
   "name": "python3"
  },
  "language_info": {
   "codemirror_mode": {
    "name": "ipython",
    "version": 3
   },
   "file_extension": ".py",
   "mimetype": "text/x-python",
   "name": "python",
   "nbconvert_exporter": "python",
   "pygments_lexer": "ipython3",
   "version": "3.8.3"
  },
  "toc": {
   "base_numbering": 1,
   "nav_menu": {},
   "number_sections": true,
   "sideBar": false,
   "skip_h1_title": true,
   "title_cell": "Table of Contents",
   "title_sidebar": "Contents",
   "toc_cell": true,
   "toc_position": {},
   "toc_section_display": true,
   "toc_window_display": false
  }
 },
 "nbformat": 4,
 "nbformat_minor": 4
}
