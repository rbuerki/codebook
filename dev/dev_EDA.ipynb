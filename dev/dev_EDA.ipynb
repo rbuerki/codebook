{
 "cells": [
  {
   "cell_type": "code",
   "execution_count": 5,
   "metadata": {
    "ExecuteTime": {
     "end_time": "2020-10-20T19:08:31.727535Z",
     "start_time": "2020-10-20T19:08:31.721536Z"
    }
   },
   "outputs": [],
   "source": [
    "import datetime as dt\n",
    "import sys\n",
    "from pathlib import Path\n",
    "\n",
    "import numpy as np\n",
    "import pandas as pd\n",
    "import matplotlib.pyplot as plt\n",
    "import seaborn as sns"
   ]
  },
  {
   "cell_type": "code",
   "execution_count": 6,
   "metadata": {
    "ExecuteTime": {
     "end_time": "2020-10-20T19:08:32.357918Z",
     "start_time": "2020-10-20T19:08:32.352932Z"
    }
   },
   "outputs": [
    {
     "name": "stdout",
     "output_type": "stream",
     "text": [
      "C:\\Users\\r2d4\\miniconda3\\envs\\py3\\python.exe\n",
      "3.8.3 (default, May 19 2020, 06:50:17) [MSC v.1916 64 bit (AMD64)]\n"
     ]
    }
   ],
   "source": [
    "print(sys.executable)\n",
    "print(sys.version)"
   ]
  },
  {
   "cell_type": "code",
   "execution_count": 7,
   "metadata": {
    "ExecuteTime": {
     "end_time": "2020-10-20T19:08:33.534818Z",
     "start_time": "2020-10-20T19:08:33.529813Z"
    }
   },
   "outputs": [],
   "source": [
    "sys.path.append(str(Path.cwd().parent / 'src'))"
   ]
  },
  {
   "cell_type": "code",
   "execution_count": 8,
   "metadata": {
    "ExecuteTime": {
     "end_time": "2020-10-20T19:08:34.674782Z",
     "start_time": "2020-10-20T19:08:34.545249Z"
    }
   },
   "outputs": [],
   "source": [
    "%load_ext autoreload\n",
    "%autoreload 2\n",
    "\n",
    "%matplotlib inline\n",
    "# %config InlineBackend.figure_format = 'svg'\n",
    "plt.style.use('raph-base')\n",
    "\n",
    "from IPython.core.interactiveshell import InteractiveShell\n",
    "InteractiveShell.ast_node_interactivity = 'all'\n",
    "\n",
    "pd.set_option('precision', 2)\n",
    "pd.set_option('display.max_columns', 30)\n",
    "pd.set_option('display.expand_frame_repr', False)\n",
    "pd.set_option('max_colwidth', 800)"
   ]
  },
  {
   "cell_type": "code",
   "execution_count": 13,
   "metadata": {
    "ExecuteTime": {
     "end_time": "2020-10-20T19:09:00.695761Z",
     "start_time": "2020-10-20T19:09:00.524702Z"
    }
   },
   "outputs": [],
   "source": [
    "import src.EDA as EDA"
   ]
  },
  {
   "cell_type": "code",
   "execution_count": 10,
   "metadata": {
    "ExecuteTime": {
     "end_time": "2020-10-20T19:08:39.935157Z",
     "start_time": "2020-10-20T19:08:39.794123Z"
    }
   },
   "outputs": [],
   "source": [
    "df = pd.read_csv(\"../data/realWorldTestData.csv\", \n",
    "                 low_memory=False, \n",
    "                 nrows=1000,\n",
    "                 )\n"
   ]
  },
  {
   "cell_type": "code",
   "execution_count": 11,
   "metadata": {
    "ExecuteTime": {
     "end_time": "2020-10-20T19:08:41.184569Z",
     "start_time": "2020-10-20T19:08:41.041534Z"
    }
   },
   "outputs": [
    {
     "name": "stdout",
     "output_type": "stream",
     "text": [
      "<class 'pandas.core.frame.DataFrame'>\n",
      "RangeIndex: 1000 entries, 0 to 999\n",
      "Data columns (total 82 columns):\n",
      " #   Column                         Non-Null Count  Dtype  \n",
      "---  ------                         --------------  -----  \n",
      " 0   car_nr                         1000 non-null   float64\n",
      " 1   ref_dt                         1000 non-null   object \n",
      " 2   target_event                   1000 non-null   object \n",
      " 3   NUM_CONSEC_SERVICES            1000 non-null   int64  \n",
      " 4   SUM_INVOICE_AMOUNT_IN_SERVICE  1000 non-null   float64\n",
      " 5   SUM_INVOICE_AMOUNT             1000 non-null   float64\n",
      " 6   NUM_EVENTS                     1000 non-null   int64  \n",
      " 7   FIRST_EVT                      1000 non-null   object \n",
      " 8   LAST_EVT                       1000 non-null   object \n",
      " 9   LAST_MILEAGE                   1000 non-null   float64\n",
      " 10  MEAN_MILEAGE_PER_MNTH          1000 non-null   float64\n",
      " 11  AVG_DIFF_MNTH                  1000 non-null   int64  \n",
      " 12  age_mnth                       1000 non-null   int64  \n",
      " 13  KANTON_LICENCE_PLATE           991 non-null    object \n",
      " 14  INSPECTION_INTERVAL_UID        1000 non-null   object \n",
      " 15  LIST_PRICE                     1000 non-null   float64\n",
      " 16  END_CUSTOMER_STATUS_UID        1000 non-null   object \n",
      " 17  ACCIDENT_CAR                   1000 non-null   int64  \n",
      " 18  CAR_BRAND_UID                  1000 non-null   object \n",
      " 19  DESCRIPTION_DE                 1000 non-null   object \n",
      " 20  DESCRIPTION_DE2                1000 non-null   object \n",
      " 21  FUEL_TYPE_UID                  1000 non-null   object \n",
      " 22  GEAR_TYPE_UID                  1000 non-null   object \n",
      " 23  WHEEL_DRIVE_UID                1000 non-null   object \n",
      " 24  NUMBER_OF_DOORS_UID            976 non-null    float64\n",
      " 25  GEAR_COUNT                     1000 non-null   float64\n",
      " 26  EXTERIOR_COLOR_DE              1000 non-null   object \n",
      " 27  INTERIOR_COLOR_DE              1000 non-null   object \n",
      " 28  BASE_MARGIN                    1000 non-null   float64\n",
      " 29  BUDGET_TYPE_IMPORT             1000 non-null   object \n",
      " 30  SALES_TYPE                     1000 non-null   object \n",
      " 31  SALES_TYPE_IMPORT              1000 non-null   object \n",
      " 32  CAR_OWNER_JOIN_NR              1000 non-null   float64\n",
      " 33  FUNCTION_TYPE_UID              33 non-null     object \n",
      " 34  PERSON_LANGUAGE_UID            1000 non-null   object \n",
      " 35  TITLE                          45 non-null     object \n",
      " 36  POSITION                       298 non-null    object \n",
      " 37  EVT_BIRTH                      0 non-null      float64\n",
      " 38  PERSON_STREET                  1000 non-null   object \n",
      " 39  PERSON_STATE                   1000 non-null   object \n",
      " 40  PERSON_ZIP_CODE                1000 non-null   int64  \n",
      " 41  PERSON_CITY                    1000 non-null   object \n",
      " 42  PERSON_ADRESS_COUNT            1000 non-null   float64\n",
      " 43  ownerAge                       901 non-null    float64\n",
      " 44  PARTNER_COMPANY_NR             1000 non-null   int64  \n",
      " 45  NAME                           0 non-null      float64\n",
      " 46  ACTIVE                         1000 non-null   int64  \n",
      " 47  REGION_UID                     1000 non-null   object \n",
      " 48  SECTOR_UID                     1000 non-null   object \n",
      " 49  PARTNER_LANGUAGE_UID           1000 non-null   object \n",
      " 50  IS_RETAIL_PARTNER              1000 non-null   int64  \n",
      " 51  IS_PREFERRED_PARTNER           1000 non-null   int64  \n",
      " 52  IS_DEALER                      1000 non-null   int64  \n",
      " 53  IS_SERVICE_PARTNER             1000 non-null   int64  \n",
      " 54  RATING_UID                     0 non-null      float64\n",
      " 55  PARTNER_ADRESS_TYPE_UID        1000 non-null   object \n",
      " 56  PARTNER_STREET                 1000 non-null   object \n",
      " 57  PARTNER_STATE                  1000 non-null   object \n",
      " 58  PARTNER_ZIP_CODE               1000 non-null   int64  \n",
      " 59  PARTNER_CITY                   1000 non-null   object \n",
      " 60  PARTNER_ADRESS_COUNT           1000 non-null   int64  \n",
      " 61  Sprachregion                   683 non-null    float64\n",
      " 62  Haushaltstyp                   683 non-null    float64\n",
      " 63  Urbanitaet                     683 non-null    float64\n",
      " 64  Wohneigentumverhaeltnis        683 non-null    object \n",
      " 65  Haushaltsgroesse               683 non-null    float64\n",
      " 66  KaufkraftindexGemeinde         683 non-null    float64\n",
      " 67  Fahrzeugtyp                    683 non-null    float64\n",
      " 68  Haushaltseinkommen             683 non-null    float64\n",
      " 69  Fahrzeugklasse                 683 non-null    float64\n",
      " 70  Lebensphase                    683 non-null    float64\n",
      " 71  HaushaltsgroesseFein           683 non-null    float64\n",
      " 72  Fahrzeugart                    683 non-null    float64\n",
      " 73  Altersklasse5J                 683 non-null    float64\n",
      " 74  Kanton                         683 non-null    float64\n",
      " 75  WEMFWirtschaftsgebiet          683 non-null    float64\n",
      " 76  Altersklasse1J                 683 non-null    float64\n",
      " 77  PARTNER_LAT                    1000 non-null   float64\n",
      " 78  PARTNER_LNG                    1000 non-null   float64\n",
      " 79  PARTNER_ADDRESS                1000 non-null   object \n",
      " 80  dist_metres                    1000 non-null   float64\n",
      " 81  dist_seconds                   1000 non-null   float64\n",
      "dtypes: float64(34), int64(14), object(34)\n",
      "memory usage: 640.8+ KB\n"
     ]
    }
   ],
   "source": [
    "df.info()"
   ]
  },
  {
   "cell_type": "code",
   "execution_count": 66,
   "metadata": {
    "ExecuteTime": {
     "end_time": "2020-10-20T19:58:00.586552Z",
     "start_time": "2020-10-20T19:58:00.452583Z"
    }
   },
   "outputs": [
    {
     "data": {
      "text/html": [
       "<div>\n",
       "<style scoped>\n",
       "    .dataframe tbody tr th:only-of-type {\n",
       "        vertical-align: middle;\n",
       "    }\n",
       "\n",
       "    .dataframe tbody tr th {\n",
       "        vertical-align: top;\n",
       "    }\n",
       "\n",
       "    .dataframe thead th {\n",
       "        text-align: right;\n",
       "    }\n",
       "</style>\n",
       "<table border=\"1\" class=\"dataframe\">\n",
       "  <thead>\n",
       "    <tr style=\"text-align: right;\">\n",
       "      <th></th>\n",
       "      <th>#_distinct_values</th>\n",
       "    </tr>\n",
       "    <tr>\n",
       "      <th>Column</th>\n",
       "      <th></th>\n",
       "    </tr>\n",
       "  </thead>\n",
       "  <tbody>\n",
       "    <tr>\n",
       "      <th>car_nr</th>\n",
       "      <td>999</td>\n",
       "    </tr>\n",
       "    <tr>\n",
       "      <th>ref_dt</th>\n",
       "      <td>495</td>\n",
       "    </tr>\n",
       "    <tr>\n",
       "      <th>target_event</th>\n",
       "      <td>2</td>\n",
       "    </tr>\n",
       "    <tr>\n",
       "      <th>NUM_CONSEC_SERVICES</th>\n",
       "      <td>10</td>\n",
       "    </tr>\n",
       "    <tr>\n",
       "      <th>SUM_INVOICE_AMOUNT_IN_SERVICE</th>\n",
       "      <td>47</td>\n",
       "    </tr>\n",
       "    <tr>\n",
       "      <th>SUM_INVOICE_AMOUNT</th>\n",
       "      <td>714</td>\n",
       "    </tr>\n",
       "    <tr>\n",
       "      <th>NUM_EVENTS</th>\n",
       "      <td>37</td>\n",
       "    </tr>\n",
       "    <tr>\n",
       "      <th>FIRST_EVT</th>\n",
       "      <td>727</td>\n",
       "    </tr>\n",
       "    <tr>\n",
       "      <th>LAST_EVT</th>\n",
       "      <td>544</td>\n",
       "    </tr>\n",
       "    <tr>\n",
       "      <th>LAST_MILEAGE</th>\n",
       "      <td>991</td>\n",
       "    </tr>\n",
       "  </tbody>\n",
       "</table>\n",
       "</div>"
      ],
      "text/plain": [
       "                               #_distinct_values\n",
       "Column                                          \n",
       "car_nr                                       999\n",
       "ref_dt                                       495\n",
       "target_event                                   2\n",
       "NUM_CONSEC_SERVICES                           10\n",
       "SUM_INVOICE_AMOUNT_IN_SERVICE                 47\n",
       "SUM_INVOICE_AMOUNT                           714\n",
       "NUM_EVENTS                                    37\n",
       "FIRST_EVT                                    727\n",
       "LAST_EVT                                     544\n",
       "LAST_MILEAGE                                 991"
      ]
     },
     "metadata": {},
     "output_type": "display_data"
    }
   ],
   "source": [
    "EDA.display_distinct_values(df.iloc[:, :10])"
   ]
  },
  {
   "cell_type": "code",
   "execution_count": 15,
   "metadata": {
    "ExecuteTime": {
     "end_time": "2020-10-20T19:09:57.007243Z",
     "start_time": "2020-10-20T19:09:56.530190Z"
    }
   },
   "outputs": [
    {
     "data": {
      "text/html": [
       "<style  type=\"text/css\" >\n",
       "</style><table id=\"T_d7b8efe5_1307_11eb_8934_60f67737a0fe\" ><caption>CAR_BRAND_UID</caption><thead>    <tr>        <th class=\"blank level0\" ></th>        <th class=\"col_heading level0 col0\" >counts</th>        <th class=\"col_heading level0 col1\" >pct</th>    </tr></thead><tbody>\n",
       "                <tr>\n",
       "                        <th id=\"T_d7b8efe5_1307_11eb_8934_60f67737a0felevel0_row0\" class=\"row_heading level0 row0\" >VW-PW</th>\n",
       "                        <td id=\"T_d7b8efe5_1307_11eb_8934_60f67737a0ferow0_col0\" class=\"data row0 col0\" >560</td>\n",
       "                        <td id=\"T_d7b8efe5_1307_11eb_8934_60f67737a0ferow0_col1\" class=\"data row0 col1\" >56.0%</td>\n",
       "            </tr>\n",
       "            <tr>\n",
       "                        <th id=\"T_d7b8efe5_1307_11eb_8934_60f67737a0felevel0_row1\" class=\"row_heading level0 row1\" >Audi</th>\n",
       "                        <td id=\"T_d7b8efe5_1307_11eb_8934_60f67737a0ferow1_col0\" class=\"data row1 col0\" >269</td>\n",
       "                        <td id=\"T_d7b8efe5_1307_11eb_8934_60f67737a0ferow1_col1\" class=\"data row1 col1\" >26.9%</td>\n",
       "            </tr>\n",
       "            <tr>\n",
       "                        <th id=\"T_d7b8efe5_1307_11eb_8934_60f67737a0felevel0_row2\" class=\"row_heading level0 row2\" >SKODA</th>\n",
       "                        <td id=\"T_d7b8efe5_1307_11eb_8934_60f67737a0ferow2_col0\" class=\"data row2 col0\" >84</td>\n",
       "                        <td id=\"T_d7b8efe5_1307_11eb_8934_60f67737a0ferow2_col1\" class=\"data row2 col1\" >8.4%</td>\n",
       "            </tr>\n",
       "            <tr>\n",
       "                        <th id=\"T_d7b8efe5_1307_11eb_8934_60f67737a0felevel0_row3\" class=\"row_heading level0 row3\" >SEAT</th>\n",
       "                        <td id=\"T_d7b8efe5_1307_11eb_8934_60f67737a0ferow3_col0\" class=\"data row3 col0\" >57</td>\n",
       "                        <td id=\"T_d7b8efe5_1307_11eb_8934_60f67737a0ferow3_col1\" class=\"data row3 col1\" >5.7%</td>\n",
       "            </tr>\n",
       "            <tr>\n",
       "                        <th id=\"T_d7b8efe5_1307_11eb_8934_60f67737a0felevel0_row4\" class=\"row_heading level0 row4\" >VW-NF</th>\n",
       "                        <td id=\"T_d7b8efe5_1307_11eb_8934_60f67737a0ferow4_col0\" class=\"data row4 col0\" >30</td>\n",
       "                        <td id=\"T_d7b8efe5_1307_11eb_8934_60f67737a0ferow4_col1\" class=\"data row4 col1\" >3.0%</td>\n",
       "            </tr>\n",
       "    </tbody></table>"
      ],
      "text/plain": [
       "<pandas.io.formats.style.Styler at 0x2db4f827790>"
      ]
     },
     "metadata": {},
     "output_type": "display_data"
    },
    {
     "data": {
      "text/html": [
       "<style  type=\"text/css\" >\n",
       "</style><table id=\"T_d7ba76ac_1307_11eb_8ff4_60f67737a0fe\" ><caption>BASE_MARGIN</caption><thead>    <tr>        <th class=\"blank level0\" ></th>        <th class=\"col_heading level0 col0\" >counts</th>        <th class=\"col_heading level0 col1\" >pct</th>    </tr></thead><tbody>\n",
       "                <tr>\n",
       "                        <th id=\"T_d7ba76ac_1307_11eb_8ff4_60f67737a0felevel0_row0\" class=\"row_heading level0 row0\" >10.0</th>\n",
       "                        <td id=\"T_d7ba76ac_1307_11eb_8ff4_60f67737a0ferow0_col0\" class=\"data row0 col0\" >413</td>\n",
       "                        <td id=\"T_d7ba76ac_1307_11eb_8ff4_60f67737a0ferow0_col1\" class=\"data row0 col1\" >41.3%</td>\n",
       "            </tr>\n",
       "            <tr>\n",
       "                        <th id=\"T_d7ba76ac_1307_11eb_8ff4_60f67737a0felevel0_row1\" class=\"row_heading level0 row1\" >7.0</th>\n",
       "                        <td id=\"T_d7ba76ac_1307_11eb_8ff4_60f67737a0ferow1_col0\" class=\"data row1 col0\" >283</td>\n",
       "                        <td id=\"T_d7ba76ac_1307_11eb_8ff4_60f67737a0ferow1_col1\" class=\"data row1 col1\" >28.3%</td>\n",
       "            </tr>\n",
       "            <tr>\n",
       "                        <th id=\"T_d7ba76ac_1307_11eb_8ff4_60f67737a0felevel0_row2\" class=\"row_heading level0 row2\" >12.0</th>\n",
       "                        <td id=\"T_d7ba76ac_1307_11eb_8ff4_60f67737a0ferow2_col0\" class=\"data row2 col0\" >132</td>\n",
       "                        <td id=\"T_d7ba76ac_1307_11eb_8ff4_60f67737a0ferow2_col1\" class=\"data row2 col1\" >13.2%</td>\n",
       "            </tr>\n",
       "            <tr>\n",
       "                        <th id=\"T_d7ba76ac_1307_11eb_8ff4_60f67737a0felevel0_row3\" class=\"row_heading level0 row3\" >9.0</th>\n",
       "                        <td id=\"T_d7ba76ac_1307_11eb_8ff4_60f67737a0ferow3_col0\" class=\"data row3 col0\" >127</td>\n",
       "                        <td id=\"T_d7ba76ac_1307_11eb_8ff4_60f67737a0ferow3_col1\" class=\"data row3 col1\" >12.7%</td>\n",
       "            </tr>\n",
       "            <tr>\n",
       "                        <th id=\"T_d7ba76ac_1307_11eb_8ff4_60f67737a0felevel0_row4\" class=\"row_heading level0 row4\" >11.25</th>\n",
       "                        <td id=\"T_d7ba76ac_1307_11eb_8ff4_60f67737a0ferow4_col0\" class=\"data row4 col0\" >30</td>\n",
       "                        <td id=\"T_d7ba76ac_1307_11eb_8ff4_60f67737a0ferow4_col1\" class=\"data row4 col1\" >3.0%</td>\n",
       "            </tr>\n",
       "            <tr>\n",
       "                        <th id=\"T_d7ba76ac_1307_11eb_8ff4_60f67737a0felevel0_row5\" class=\"row_heading level0 row5\" >8.0</th>\n",
       "                        <td id=\"T_d7ba76ac_1307_11eb_8ff4_60f67737a0ferow5_col0\" class=\"data row5 col0\" >15</td>\n",
       "                        <td id=\"T_d7ba76ac_1307_11eb_8ff4_60f67737a0ferow5_col1\" class=\"data row5 col1\" >1.5%</td>\n",
       "            </tr>\n",
       "    </tbody></table>"
      ],
      "text/plain": [
       "<pandas.io.formats.style.Styler at 0x2db4f7f1dc0>"
      ]
     },
     "metadata": {},
     "output_type": "display_data"
    }
   ],
   "source": [
    "EDA.display_value_counts_ptc(df, cols=[\"CAR_BRAND_UID\", \"BASE_MARGIN\"])"
   ]
  },
  {
   "cell_type": "code",
   "execution_count": 79,
   "metadata": {
    "ExecuteTime": {
     "end_time": "2020-10-20T20:18:02.450412Z",
     "start_time": "2020-10-20T20:18:02.314414Z"
    }
   },
   "outputs": [
    {
     "name": "stdout",
     "output_type": "stream",
     "text": [
      "(1000, 10)\n"
     ]
    },
    {
     "data": {
      "text/html": [
       "<div>\n",
       "<style scoped>\n",
       "    .dataframe tbody tr th:only-of-type {\n",
       "        vertical-align: middle;\n",
       "    }\n",
       "\n",
       "    .dataframe tbody tr th {\n",
       "        vertical-align: top;\n",
       "    }\n",
       "\n",
       "    .dataframe thead th {\n",
       "        text-align: right;\n",
       "    }\n",
       "</style>\n",
       "<table border=\"1\" class=\"dataframe\">\n",
       "  <thead>\n",
       "    <tr style=\"text-align: right;\">\n",
       "      <th></th>\n",
       "      <th>302</th>\n",
       "      <th>158</th>\n",
       "      <th>870</th>\n",
       "      <th>413</th>\n",
       "      <th>353</th>\n",
       "    </tr>\n",
       "  </thead>\n",
       "  <tbody>\n",
       "    <tr>\n",
       "      <th>car_nr</th>\n",
       "      <td>1.1e+08</td>\n",
       "      <td>1.4e+08</td>\n",
       "      <td>1.4e+07</td>\n",
       "      <td>2.4e+08</td>\n",
       "      <td>1.2e+08</td>\n",
       "    </tr>\n",
       "    <tr>\n",
       "      <th>ref_dt</th>\n",
       "      <td>2015-08-20 00:00:00.0000000</td>\n",
       "      <td>2016-04-06 00:00:00.0000000</td>\n",
       "      <td>2016-07-27 00:00:00.0000000</td>\n",
       "      <td>2016-07-15 00:00:00.0000000</td>\n",
       "      <td>2016-07-14 00:00:00.0000000</td>\n",
       "    </tr>\n",
       "    <tr>\n",
       "      <th>target_event</th>\n",
       "      <td>ACTIVE</td>\n",
       "      <td>ACTIVE</td>\n",
       "      <td>ACTIVE</td>\n",
       "      <td>ACTIVE</td>\n",
       "      <td>ACTIVE</td>\n",
       "    </tr>\n",
       "    <tr>\n",
       "      <th>NUM_CONSEC_SERVICES</th>\n",
       "      <td>2</td>\n",
       "      <td>1</td>\n",
       "      <td>3</td>\n",
       "      <td>2</td>\n",
       "      <td>3</td>\n",
       "    </tr>\n",
       "    <tr>\n",
       "      <th>SUM_INVOICE_AMOUNT_IN_SERVICE</th>\n",
       "      <td>0</td>\n",
       "      <td>0</td>\n",
       "      <td>0</td>\n",
       "      <td>0</td>\n",
       "      <td>0</td>\n",
       "    </tr>\n",
       "    <tr>\n",
       "      <th>SUM_INVOICE_AMOUNT</th>\n",
       "      <td>1.1e+02</td>\n",
       "      <td>7.9e+02</td>\n",
       "      <td>2.6e+03</td>\n",
       "      <td>0</td>\n",
       "      <td>0</td>\n",
       "    </tr>\n",
       "    <tr>\n",
       "      <th>NUM_EVENTS</th>\n",
       "      <td>9</td>\n",
       "      <td>10</td>\n",
       "      <td>13</td>\n",
       "      <td>5</td>\n",
       "      <td>6</td>\n",
       "    </tr>\n",
       "    <tr>\n",
       "      <th>FIRST_EVT</th>\n",
       "      <td>2012-05-01 00:00:00.0000000</td>\n",
       "      <td>2013-06-20 00:00:00.0000000</td>\n",
       "      <td>2010-04-30 00:00:00.0000000</td>\n",
       "      <td>2013-11-22 00:00:00.0000000</td>\n",
       "      <td>2012-09-27 00:00:00.0000000</td>\n",
       "    </tr>\n",
       "    <tr>\n",
       "      <th>LAST_EVT</th>\n",
       "      <td>2015-04-20 00:00:00.0000000</td>\n",
       "      <td>2016-04-06 00:00:00.0000000</td>\n",
       "      <td>2015-09-08 00:00:00.0000000</td>\n",
       "      <td>2015-09-16 00:00:00.0000000</td>\n",
       "      <td>2015-08-26 00:00:00.0000000</td>\n",
       "    </tr>\n",
       "    <tr>\n",
       "      <th>LAST_MILEAGE</th>\n",
       "      <td>3e+04</td>\n",
       "      <td>2.5e+04</td>\n",
       "      <td>7.1e+04</td>\n",
       "      <td>5.8e+04</td>\n",
       "      <td>2.7e+04</td>\n",
       "    </tr>\n",
       "  </tbody>\n",
       "</table>\n",
       "</div>"
      ],
      "text/plain": [
       "                                                       302                          158                          870                          413                          353\n",
       "car_nr                                             1.1e+08                      1.4e+08                      1.4e+07                      2.4e+08                      1.2e+08\n",
       "ref_dt                         2015-08-20 00:00:00.0000000  2016-04-06 00:00:00.0000000  2016-07-27 00:00:00.0000000  2016-07-15 00:00:00.0000000  2016-07-14 00:00:00.0000000\n",
       "target_event                                        ACTIVE                       ACTIVE                       ACTIVE                       ACTIVE                       ACTIVE\n",
       "NUM_CONSEC_SERVICES                                      2                            1                            3                            2                            3\n",
       "SUM_INVOICE_AMOUNT_IN_SERVICE                            0                            0                            0                            0                            0\n",
       "SUM_INVOICE_AMOUNT                                 1.1e+02                      7.9e+02                      2.6e+03                            0                            0\n",
       "NUM_EVENTS                                               9                           10                           13                            5                            6\n",
       "FIRST_EVT                      2012-05-01 00:00:00.0000000  2013-06-20 00:00:00.0000000  2010-04-30 00:00:00.0000000  2013-11-22 00:00:00.0000000  2012-09-27 00:00:00.0000000\n",
       "LAST_EVT                       2015-04-20 00:00:00.0000000  2016-04-06 00:00:00.0000000  2015-09-08 00:00:00.0000000  2015-09-16 00:00:00.0000000  2015-08-26 00:00:00.0000000\n",
       "LAST_MILEAGE                                         3e+04                      2.5e+04                      7.1e+04                      5.8e+04                      2.7e+04"
      ]
     },
     "metadata": {},
     "output_type": "display_data"
    }
   ],
   "source": [
    "EDA.display_tail_transposed(df.iloc[:, :10], random_state=None)"
   ]
  },
  {
   "cell_type": "code",
   "execution_count": 78,
   "metadata": {
    "ExecuteTime": {
     "end_time": "2020-10-20T20:18:00.475411Z",
     "start_time": "2020-10-20T20:18:00.347384Z"
    }
   },
   "outputs": [
    {
     "ename": "TypeError",
     "evalue": "plot_num_hist() got an unexpected keyword argument 'bins'",
     "output_type": "error",
     "traceback": [
      "\u001b[1;31m---------------------------------------------------------------------------\u001b[0m",
      "\u001b[1;31mTypeError\u001b[0m                                 Traceback (most recent call last)",
      "\u001b[1;32m<ipython-input-78-a0213ec2d230>\u001b[0m in \u001b[0;36m<module>\u001b[1;34m\u001b[0m\n\u001b[1;32m----> 1\u001b[1;33m \u001b[0mEDA\u001b[0m\u001b[1;33m.\u001b[0m\u001b[0mplot_num_hist\u001b[0m\u001b[1;33m(\u001b[0m\u001b[0mdf\u001b[0m\u001b[1;33m.\u001b[0m\u001b[0miloc\u001b[0m\u001b[1;33m[\u001b[0m\u001b[1;33m:\u001b[0m\u001b[1;33m,\u001b[0m \u001b[1;33m:\u001b[0m\u001b[1;36m10\u001b[0m\u001b[1;33m]\u001b[0m\u001b[1;33m,\u001b[0m \u001b[0mfigsize\u001b[0m\u001b[1;33m=\u001b[0m\u001b[1;33m(\u001b[0m\u001b[1;36m14\u001b[0m\u001b[1;33m,\u001b[0m \u001b[1;36m8\u001b[0m\u001b[1;33m)\u001b[0m\u001b[1;33m,\u001b[0m \u001b[0mbins\u001b[0m\u001b[1;33m=\u001b[0m\u001b[1;36m5\u001b[0m\u001b[1;33m)\u001b[0m\u001b[1;33m\u001b[0m\u001b[1;33m\u001b[0m\u001b[0m\n\u001b[0m",
      "\u001b[1;31mTypeError\u001b[0m: plot_num_hist() got an unexpected keyword argument 'bins'"
     ]
    }
   ],
   "source": [
    "EDA.plot_num_hist(df.iloc[:, :10], figsize=(14, 8), bins=5)"
   ]
  },
  {
   "cell_type": "code",
   "execution_count": null,
   "metadata": {},
   "outputs": [],
   "source": []
  }
 ],
 "metadata": {
  "hide_input": false,
  "kernelspec": {
   "display_name": "Python 3",
   "language": "python",
   "name": "python3"
  },
  "language_info": {
   "codemirror_mode": {
    "name": "ipython",
    "version": 3
   },
   "file_extension": ".py",
   "mimetype": "text/x-python",
   "name": "python",
   "nbconvert_exporter": "python",
   "pygments_lexer": "ipython3",
   "version": "3.8.3"
  },
  "toc": {
   "base_numbering": 1,
   "nav_menu": {},
   "number_sections": true,
   "sideBar": false,
   "skip_h1_title": true,
   "title_cell": "Table of Contents",
   "title_sidebar": "Contents",
   "toc_cell": false,
   "toc_position": {},
   "toc_section_display": true,
   "toc_window_display": false
  }
 },
 "nbformat": 4,
 "nbformat_minor": 4
}
