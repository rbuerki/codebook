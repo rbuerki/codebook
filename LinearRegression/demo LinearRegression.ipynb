{
 "cells": [
  {
   "cell_type": "markdown",
   "metadata": {},
   "source": [
    "Work in progress - Note to myself, still to do:\n",
    "    - test error calculation on X_train vs full X\n",
    "    - implement a better way for feature reduction (Lasso or backward approach from ML-Statistics book)\n",
    "    - write background info on evaluation scores\n",
    "    "
   ]
  },
  {
   "cell_type": "markdown",
   "metadata": {},
   "source": [
    "**Note:** If the data is already centered and you want `fit_intercept = False`, then normalization will not be applied. See [here](http://scikit-learn.org/stable/modules/generated/sklearn.linear_model.LinearRegression.html) for more info, and see Bycicle notebook for an example with centered data."
   ]
  },
  {
   "cell_type": "markdown",
   "metadata": {},
   "source": [
    "# Demo of LinRegModel Class and it's Methods"
   ]
  },
  {
   "cell_type": "markdown",
   "metadata": {},
   "source": [
    "### Load libraries and data"
   ]
  },
  {
   "cell_type": "code",
   "execution_count": 1,
   "metadata": {},
   "outputs": [],
   "source": [
    "import numpy as np\n",
    "import pandas as pd\n",
    "\n",
    "from sklearn.linear_model import LinearRegression, RidgeCV, LassoCV, ElasticNetCV\n",
    "from sklearn.model_selection import train_test_split, learning_curve\n",
    "from sklearn.metrics import r2_score, mean_squared_error\n",
    "from sklearn.utils import resample  # will be used for error calculation on feature weights\n",
    "\n",
    "import EDA_functions, cleaning_functions\n",
    "from linRegModel_class import LinRegModel\n",
    "\n",
    "import matplotlib.pyplot as plt\n",
    "import seaborn as sns; sns.set()\n",
    "%matplotlib inline\n",
    "\n",
    "# display all columns in df\n",
    "from IPython.display import display\n",
    "pd.options.display.max_columns = None"
   ]
  },
  {
   "cell_type": "code",
   "execution_count": 2,
   "metadata": {},
   "outputs": [],
   "source": [
    "housing = pd.read_csv('../data/housing.csv')"
   ]
  },
  {
   "cell_type": "markdown",
   "metadata": {},
   "source": [
    "### Check dataframe structure"
   ]
  },
  {
   "cell_type": "code",
   "execution_count": 3,
   "metadata": {},
   "outputs": [
    {
     "name": "stdout",
     "output_type": "stream",
     "text": [
      "<class 'pandas.core.frame.DataFrame'>\n",
      "RangeIndex: 20640 entries, 0 to 20639\n",
      "Data columns (total 10 columns):\n",
      "longitude             20640 non-null float64\n",
      "latitude              20640 non-null float64\n",
      "housing_median_age    20640 non-null float64\n",
      "total_rooms           20640 non-null float64\n",
      "total_bedrooms        20433 non-null float64\n",
      "population            20640 non-null float64\n",
      "households            20640 non-null float64\n",
      "median_income         20640 non-null float64\n",
      "median_house_value    20640 non-null float64\n",
      "ocean_proximity       20640 non-null object\n",
      "dtypes: float64(9), object(1)\n",
      "memory usage: 1.6+ MB\n"
     ]
    }
   ],
   "source": [
    "housing.info()"
   ]
  },
  {
   "cell_type": "code",
   "execution_count": 4,
   "metadata": {},
   "outputs": [
    {
     "data": {
      "text/html": [
       "<div>\n",
       "<style scoped>\n",
       "    .dataframe tbody tr th:only-of-type {\n",
       "        vertical-align: middle;\n",
       "    }\n",
       "\n",
       "    .dataframe tbody tr th {\n",
       "        vertical-align: top;\n",
       "    }\n",
       "\n",
       "    .dataframe thead th {\n",
       "        text-align: right;\n",
       "    }\n",
       "</style>\n",
       "<table border=\"1\" class=\"dataframe\">\n",
       "  <thead>\n",
       "    <tr style=\"text-align: right;\">\n",
       "      <th></th>\n",
       "      <th>longitude</th>\n",
       "      <th>latitude</th>\n",
       "      <th>housing_median_age</th>\n",
       "      <th>total_rooms</th>\n",
       "      <th>total_bedrooms</th>\n",
       "      <th>population</th>\n",
       "      <th>households</th>\n",
       "      <th>median_income</th>\n",
       "      <th>median_house_value</th>\n",
       "      <th>ocean_proximity</th>\n",
       "    </tr>\n",
       "  </thead>\n",
       "  <tbody>\n",
       "    <tr>\n",
       "      <th>2694</th>\n",
       "      <td>-115.40</td>\n",
       "      <td>32.86</td>\n",
       "      <td>19.0</td>\n",
       "      <td>1087.0</td>\n",
       "      <td>171.0</td>\n",
       "      <td>649.0</td>\n",
       "      <td>173.0</td>\n",
       "      <td>3.3182</td>\n",
       "      <td>113800.0</td>\n",
       "      <td>INLAND</td>\n",
       "    </tr>\n",
       "    <tr>\n",
       "      <th>14502</th>\n",
       "      <td>-117.23</td>\n",
       "      <td>32.87</td>\n",
       "      <td>11.0</td>\n",
       "      <td>3123.0</td>\n",
       "      <td>740.0</td>\n",
       "      <td>1223.0</td>\n",
       "      <td>634.0</td>\n",
       "      <td>5.4170</td>\n",
       "      <td>196800.0</td>\n",
       "      <td>NEAR OCEAN</td>\n",
       "    </tr>\n",
       "    <tr>\n",
       "      <th>13619</th>\n",
       "      <td>-117.25</td>\n",
       "      <td>34.13</td>\n",
       "      <td>35.0</td>\n",
       "      <td>861.0</td>\n",
       "      <td>148.0</td>\n",
       "      <td>381.0</td>\n",
       "      <td>138.0</td>\n",
       "      <td>2.5234</td>\n",
       "      <td>88200.0</td>\n",
       "      <td>INLAND</td>\n",
       "    </tr>\n",
       "  </tbody>\n",
       "</table>\n",
       "</div>"
      ],
      "text/plain": [
       "       longitude  latitude  housing_median_age  total_rooms  total_bedrooms  \\\n",
       "2694     -115.40     32.86                19.0       1087.0           171.0   \n",
       "14502    -117.23     32.87                11.0       3123.0           740.0   \n",
       "13619    -117.25     34.13                35.0        861.0           148.0   \n",
       "\n",
       "       population  households  median_income  median_house_value  \\\n",
       "2694        649.0       173.0         3.3182            113800.0   \n",
       "14502      1223.0       634.0         5.4170            196800.0   \n",
       "13619       381.0       138.0         2.5234             88200.0   \n",
       "\n",
       "      ocean_proximity  \n",
       "2694           INLAND  \n",
       "14502      NEAR OCEAN  \n",
       "13619          INLAND  "
      ]
     },
     "execution_count": 4,
     "metadata": {},
     "output_type": "execute_result"
    }
   ],
   "source": [
    "housing.sample(3)"
   ]
  },
  {
   "cell_type": "code",
   "execution_count": 5,
   "metadata": {},
   "outputs": [
    {
     "data": {
      "image/png": "[encoded data removed]",
      "text/plain": [
       "<Figure size 1296x432 with 1 Axes>"
      ]
     },
     "metadata": {
      "needs_background": "light"
     },
     "output_type": "display_data"
    }
   ],
   "source": [
    "cleaning_functions.plot_NaN(housing)"
   ]
  },
  {
   "cell_type": "code",
   "execution_count": 6,
   "metadata": {},
   "outputs": [
    {
     "name": "stdout",
     "output_type": "stream",
     "text": [
      "Number of NaN per column:\n",
      "total_bedrooms: 207 (0.01%)\n"
     ]
    }
   ],
   "source": [
    "cleaning_functions.list_NaN(housing)"
   ]
  },
  {
   "cell_type": "markdown",
   "metadata": {},
   "source": [
    "## Initialize Your Model"
   ]
  },
  {
   "cell_type": "markdown",
   "metadata": {},
   "source": [
    "First step is to initialize a (or a couple of different) linear scikit-learn model object with it's correspoding parameters. "
   ]
  },
  {
   "cell_type": "code",
   "execution_count": 7,
   "metadata": {},
   "outputs": [],
   "source": [
    "# define a scikit-learn model object you want to work with\n",
    "model = LinearRegression(normalize=True)\n",
    "# create an instance of the LinRegModel class by passing the dataframe, the target variable and the model object\n",
    "linReg_simple = LinRegModel(housing, 'median_house_value', model)"
   ]
  },
  {
   "cell_type": "code",
   "execution_count": 8,
   "metadata": {},
   "outputs": [
    {
     "data": {
      "text/plain": [
       "LinearRegression(copy_X=True, fit_intercept=True, n_jobs=None, normalize=True)"
      ]
     },
     "execution_count": 8,
     "metadata": {},
     "output_type": "execute_result"
    }
   ],
   "source": [
    "# you can output the model with help of the instance variable name\n",
    "linReg_simple"
   ]
  },
  {
   "cell_type": "markdown",
   "metadata": {},
   "source": [
    "### General back-ground information to help with choosing models\n",
    "\n",
    "**Typical models to work with**:\n",
    "- **Linear Regression / Ordinary Least Squares** is an unregularized, 'simple' Linear Regression. Important parameters are `fit_intercept` and / or `normalize`. (More on the different parameters below.)\n",
    "- **Lasso Regression / L1** produces sparse solutions and as such is useful _selecting a strong subset of features_ for improving model performance. But it's result can be very unstable. Additional important parameter is `alpha`, the regularization strength.  \n",
    "- **Ridge Regression / L2** on the other hand can be used for _data interpretation_ due to its stability and the fact that useful features tend to have non-zero coefficients. Same important parameters as above.\n",
    "- **Elastic Net** is a middle ground between Lasso and Ridge. The regularization term is a simple mix of both's regularization terms. The parameter in charge of the mix is `l1_ratio`: 0 is equivalent to Ridge Regression, 1 is equivalent to Lasso Regression.\n",
    "\n",
    "__Explanation__: Generally in linear regression only the _residual sum of squares (RSS)_ is minimized, whereas in ridge and lasso regression, a _penalty is applied on coefficient values_ with the tuning parameter lambda (lambda=0 no penalty effect, lambda=large pushes coefficients towards / to zero).\n",
    "\n",
    "- _L2 / Ridge_ shrinks the weights according to their importance, but does not set them exactly to zero in order to eliminate unneccessary predictors from models. It will always include all the predictors. _Models from Ridge provide accuracy but are hard to interpret when the numer of predictors is large._\n",
    "- _L1 / Lasso_ on the other hand sets the weights of the unnecessary variables to zero and so eliminates them creating compact models that are easier to interpret. _Models from lasso are very much like subset selection_. The cost is less robustness.\n",
    "\n",
    "\n",
    "__Which ones to use__: Generally it is always preferable to have at least a little bit of regularization (so avoid plain Linear Regression)*. _Ridge is a good default_ - but if you suspect that only a few features are actually useful, you should prefer Lasso or Elastic Net since they tend to reduce the useless features' weights down to zero. In general, Elastic Net is preferred over Lasso since the latter may behave erratically when the number of features is greater than the number of training instances or when several features are strongly correlated. \n",
    "\n",
    "In any case: use the RidgeCV / LassoCV / ElasticNetCV variants to find the right alpha / l1_ratio settings!\n",
    "\n",
    "*Note if you set parameter `normalize=True` for a LinearRegression you have some L2-Regularization (see below).\n",
    "\n",
    "\n",
    "**Parameters** (as described on the sk-learn website):\n",
    "- `fit_intercept` (boolean, optional, default True): Parameter whether to calculate the intercept for this model. If set to False, no intercept will be used in calculations (e.g. data is expected to be already centered).\n",
    "- `normalize` (boolean, optional, default False): This parameter is ignored when fit_intercept is set to False. If True, the regressors X will be normalized before regression by subtracting the mean and dividing by the l2-norm. (Note: If you wish to standardize, please use sklearn.preprocessing.StandardScaler before calling fit on an estimator with normalize=False.)\n",
    "- `alpha` ({float, array-like}, shape (n_targets)): Regularization strength; must be a positive float. Regularization improves the conditioning of the problem and reduces the variance of the estimates. Larger values specify stronger regularization. Alpha corresponds to C^-1 in other linear models such as LogisticRegression or LinearSVC. If an array is passed, penalties are assumed to be specific to the targets. Hence they must correspond in number.\n",
    "- `l1_ratio` (float): The ElasticNet mixing parameter, with 0 <= l1_ratio <= 1. For l1_ratio = 0 the penalty is an L2 penalty. For l1_ratio = 1 it is an L1 penalty. For 0 < l1_ratio < 1, the penalty is a combination of L1 and L2.\n",
    "\n",
    "\n",
    "**Further reading**:\n",
    "- _Scikit-learn_ [documentation](https://scikit-learn.org/stable/modules/linear_model.html)\n",
    "- _Hands-On Machine Learning with Scikit-Learn and TensorFlow_ by Aurèlien Géron. (O'Reilly)\n",
    "- _Pyhton Data Science Handbook_ by Jake Vanderplas (O'Reilly)\n",
    "- This interesting [blog post on \"Diving Into Data\"](http://blog.datadive.net/selecting-good-features-part-ii-linear-models-and-regularization/) by Ando Saabas"
   ]
  },
  {
   "cell_type": "markdown",
   "metadata": {},
   "source": [
    "## Use the function `go_quickDirty` for one-step linear regression modelling"
   ]
  },
  {
   "cell_type": "markdown",
   "metadata": {},
   "source": [
    "`go_quickDirty` is a method of the LinRegModel class for preprocessing data, fitting and testing a linear regression model _in one step_. You can pass (almost) any unprepared data. (It is called quick & dirty because the preprocessing is quite unsophisticated: NA values will be  handled in a simple way, categorical variables dummied. But there is no outlier treatment or scaling. So you better make sure to set the parameter 'normalize=True' for your model input.)\n",
    "\n",
    "Details on preprocessing:\n",
    "- All columns with dtype object and category will be one-hot-encoded. (Make sure they all have categorical character.)\n",
    "- All NaN in numerical cols will be imputed with mean, all NaN in non-numerical columns will be dummied (for mixing into the zero category, change the 'dummy_na' parameter)"
   ]
  },
  {
   "cell_type": "code",
   "execution_count": 9,
   "metadata": {},
   "outputs": [],
   "source": [
    "# perform linear regression modelling on instance\n",
    "linReg_simple.go_quickDirty()"
   ]
  },
  {
   "cell_type": "code",
   "execution_count": 10,
   "metadata": {},
   "outputs": [
    {
     "data": {
      "text/plain": [
       "LinearRegression(copy_X=True, fit_intercept=True, n_jobs=None, normalize=True)\n",
       "\n",
       "RMSE on test data 69674.27, r2-score 0.63."
      ]
     },
     "execution_count": 10,
     "metadata": {},
     "output_type": "execute_result"
    }
   ],
   "source": [
    "# after modelling you can ouptut the RMSE and the r2-Score with help of the instance variable name\n",
    "linReg_simple"
   ]
  },
  {
   "cell_type": "markdown",
   "metadata": {},
   "source": [
    "### Background infrmation on evaluation scores\n",
    "- RMSE has to be calculated from MSE. Both are sensitive to outliers. If you have lot's of outliers MAE might be preferable.\n",
    "- R2-score can be problematic, there is also an adjusted R2-score to consider."
   ]
  },
  {
   "cell_type": "markdown",
   "metadata": {},
   "source": [
    "## Evaluate the model"
   ]
  },
  {
   "cell_type": "code",
   "execution_count": 11,
   "metadata": {},
   "outputs": [
    {
     "name": "stdout",
     "output_type": "stream",
     "text": [
      "[learning_curve] Training set sizes: [  115   717  1320  1922  2524  3126  3728  4331  4933  5535  6137  6740\n",
      "  7342  7944  8546  9149  9751 10353 10955 11558]\n"
     ]
    },
    {
     "name": "stderr",
     "output_type": "stream",
     "text": [
      "[Parallel(n_jobs=-1)]: Using backend LokyBackend with 4 concurrent workers.\n",
      "[Parallel(n_jobs=-1)]: Done 100 out of 100 | elapsed:    3.2s finished\n"
     ]
    },
    {
     "data": {
      "image/png": "[encoded data removed]",
      "text/plain": [
       "<Figure size 1152x288 with 1 Axes>"
      ]
     },
     "metadata": {
      "needs_background": "light"
     },
     "output_type": "display_data"
    }
   ],
   "source": [
    "# plot learning curves using 5-fold cross validation\n",
    "linReg_simple.plot_learning_curves()"
   ]
  },
  {
   "cell_type": "code",
   "execution_count": 12,
   "metadata": {},
   "outputs": [
    {
     "data": {
      "text/html": [
       "<div>\n",
       "<style scoped>\n",
       "    .dataframe tbody tr th:only-of-type {\n",
       "        vertical-align: middle;\n",
       "    }\n",
       "\n",
       "    .dataframe tbody tr th {\n",
       "        vertical-align: top;\n",
       "    }\n",
       "\n",
       "    .dataframe thead th {\n",
       "        text-align: right;\n",
       "    }\n",
       "</style>\n",
       "<table border=\"1\" class=\"dataframe\">\n",
       "  <thead>\n",
       "    <tr style=\"text-align: right;\">\n",
       "      <th></th>\n",
       "      <th>effect</th>\n",
       "      <th>error</th>\n",
       "    </tr>\n",
       "  </thead>\n",
       "  <tbody>\n",
       "    <tr>\n",
       "      <th>ocean_proximity_ISLAND</th>\n",
       "      <td>216162.0</td>\n",
       "      <td>1080.0</td>\n",
       "    </tr>\n",
       "    <tr>\n",
       "      <th>ocean_proximity_INLAND</th>\n",
       "      <td>-40453.2</td>\n",
       "      <td>1059.0</td>\n",
       "    </tr>\n",
       "    <tr>\n",
       "      <th>median_income</th>\n",
       "      <td>38622.0</td>\n",
       "      <td>59.0</td>\n",
       "    </tr>\n",
       "    <tr>\n",
       "      <th>longitude</th>\n",
       "      <td>-26176.7</td>\n",
       "      <td>1.0</td>\n",
       "    </tr>\n",
       "    <tr>\n",
       "      <th>latitude</th>\n",
       "      <td>-24968.5</td>\n",
       "      <td>12.0</td>\n",
       "    </tr>\n",
       "    <tr>\n",
       "      <th>ocean_proximity_NEAR BAY</th>\n",
       "      <td>-4524.3</td>\n",
       "      <td>3.0</td>\n",
       "    </tr>\n",
       "    <tr>\n",
       "      <th>ocean_proximity_NEAR OCEAN</th>\n",
       "      <td>2576.4</td>\n",
       "      <td>13.0</td>\n",
       "    </tr>\n",
       "    <tr>\n",
       "      <th>housing_median_age</th>\n",
       "      <td>1074.0</td>\n",
       "      <td>599.0</td>\n",
       "    </tr>\n",
       "    <tr>\n",
       "      <th>households</th>\n",
       "      <td>94.5</td>\n",
       "      <td>1739.0</td>\n",
       "    </tr>\n",
       "    <tr>\n",
       "      <th>total_bedrooms</th>\n",
       "      <td>64.8</td>\n",
       "      <td>36726.0</td>\n",
       "    </tr>\n",
       "    <tr>\n",
       "      <th>population</th>\n",
       "      <td>-45.4</td>\n",
       "      <td>2342.0</td>\n",
       "    </tr>\n",
       "    <tr>\n",
       "      <th>total_rooms</th>\n",
       "      <td>-3.6</td>\n",
       "      <td>2098.0</td>\n",
       "    </tr>\n",
       "    <tr>\n",
       "      <th>ocean_proximity_nan</th>\n",
       "      <td>0.0</td>\n",
       "      <td>0.0</td>\n",
       "    </tr>\n",
       "  </tbody>\n",
       "</table>\n",
       "</div>"
      ],
      "text/plain": [
       "                              effect    error\n",
       "ocean_proximity_ISLAND      216162.0   1080.0\n",
       "ocean_proximity_INLAND      -40453.2   1059.0\n",
       "median_income                38622.0     59.0\n",
       "longitude                   -26176.7      1.0\n",
       "latitude                    -24968.5     12.0\n",
       "ocean_proximity_NEAR BAY     -4524.3      3.0\n",
       "ocean_proximity_NEAR OCEAN    2576.4     13.0\n",
       "housing_median_age            1074.0    599.0\n",
       "households                      94.5   1739.0\n",
       "total_bedrooms                  64.8  36726.0\n",
       "population                     -45.4   2342.0\n",
       "total_rooms                     -3.6   2098.0\n",
       "ocean_proximity_nan              0.0      0.0"
      ]
     },
     "execution_count": 12,
     "metadata": {},
     "output_type": "execute_result"
    }
   ],
   "source": [
    "# plot feature weights (error estimation by bootstrapping)\n",
    "linReg_simple.print_coef_weights(n_bootstrap=1000)"
   ]
  },
  {
   "cell_type": "markdown",
   "metadata": {},
   "source": [
    "**Interpretation:** The default penalty on coefficients using linear regression in sklearn is a ridge (also known as an L2) penalty.  Because of this penalty, and because all the variables were normalized, we can look at the size of the coefficients in the model as an indication of the impact of each variable on the target variable. The larger the coefficient, the larger the expected impact. "
   ]
  },
  {
   "cell_type": "markdown",
   "metadata": {},
   "source": [
    "### Check results for Ridge, Lasso & ElasticNet\n"
   ]
  },
  {
   "cell_type": "code",
   "execution_count": 13,
   "metadata": {},
   "outputs": [
    {
     "data": {
      "text/plain": [
       "RidgeCV(alphas=array([ 2000,  5000, 10000]), cv=3, fit_intercept=True,\n",
       "    gcv_mode=None, normalize=False, scoring=None, store_cv_values=False)\n",
       "\n",
       "RMSE on test data 70262.77, r2-score 0.62."
      ]
     },
     "execution_count": 13,
     "metadata": {},
     "output_type": "execute_result"
    }
   ],
   "source": [
    "# define RidgeCV without normalization but higher alphas)\n",
    "model = RidgeCV(alphas=[2000, 5000, 10000], cv=3, fit_intercept=True)\n",
    "# instantiate\n",
    "ridgeCV_simple = LinRegModel(housing, 'median_house_value', model)\n",
    "# perform linear regression modelling\n",
    "ridgeCV_simple.go_quickDirty()\n",
    "# output scores\n",
    "ridgeCV_simple"
   ]
  },
  {
   "cell_type": "code",
   "execution_count": 14,
   "metadata": {},
   "outputs": [
    {
     "data": {
      "text/plain": [
       "2000"
      ]
     },
     "execution_count": 14,
     "metadata": {},
     "output_type": "execute_result"
    }
   ],
   "source": [
    "# check best alpha value (has to be done with model)\n",
    "model.alpha_"
   ]
  },
  {
   "cell_type": "code",
   "execution_count": 15,
   "metadata": {},
   "outputs": [
    {
     "data": {
      "text/html": [
       "<div>\n",
       "<style scoped>\n",
       "    .dataframe tbody tr th:only-of-type {\n",
       "        vertical-align: middle;\n",
       "    }\n",
       "\n",
       "    .dataframe tbody tr th {\n",
       "        vertical-align: top;\n",
       "    }\n",
       "\n",
       "    .dataframe thead th {\n",
       "        text-align: right;\n",
       "    }\n",
       "</style>\n",
       "<table border=\"1\" class=\"dataframe\">\n",
       "  <thead>\n",
       "    <tr style=\"text-align: right;\">\n",
       "      <th></th>\n",
       "      <th>effect</th>\n",
       "      <th>error</th>\n",
       "    </tr>\n",
       "  </thead>\n",
       "  <tbody>\n",
       "    <tr>\n",
       "      <th>median_income</th>\n",
       "      <td>38479.1</td>\n",
       "      <td>464.0</td>\n",
       "    </tr>\n",
       "    <tr>\n",
       "      <th>ocean_proximity_INLAND</th>\n",
       "      <td>-25814.1</td>\n",
       "      <td>437.0</td>\n",
       "    </tr>\n",
       "    <tr>\n",
       "      <th>latitude</th>\n",
       "      <td>-21012.5</td>\n",
       "      <td>57.0</td>\n",
       "    </tr>\n",
       "    <tr>\n",
       "      <th>longitude</th>\n",
       "      <td>-20708.4</td>\n",
       "      <td>1.0</td>\n",
       "    </tr>\n",
       "    <tr>\n",
       "      <th>ocean_proximity_NEAR OCEAN</th>\n",
       "      <td>4918.5</td>\n",
       "      <td>10.0</td>\n",
       "    </tr>\n",
       "    <tr>\n",
       "      <th>ocean_proximity_NEAR BAY</th>\n",
       "      <td>2367.5</td>\n",
       "      <td>3.0</td>\n",
       "    </tr>\n",
       "    <tr>\n",
       "      <th>housing_median_age</th>\n",
       "      <td>1249.7</td>\n",
       "      <td>12.0</td>\n",
       "    </tr>\n",
       "    <tr>\n",
       "      <th>ocean_proximity_ISLAND</th>\n",
       "      <td>334.6</td>\n",
       "      <td>536.0</td>\n",
       "    </tr>\n",
       "    <tr>\n",
       "      <th>households</th>\n",
       "      <td>116.7</td>\n",
       "      <td>612.0</td>\n",
       "    </tr>\n",
       "    <tr>\n",
       "      <th>total_bedrooms</th>\n",
       "      <td>49.7</td>\n",
       "      <td>215.0</td>\n",
       "    </tr>\n",
       "    <tr>\n",
       "      <th>population</th>\n",
       "      <td>-46.2</td>\n",
       "      <td>713.0</td>\n",
       "    </tr>\n",
       "    <tr>\n",
       "      <th>total_rooms</th>\n",
       "      <td>-3.9</td>\n",
       "      <td>842.0</td>\n",
       "    </tr>\n",
       "    <tr>\n",
       "      <th>ocean_proximity_nan</th>\n",
       "      <td>0.0</td>\n",
       "      <td>0.0</td>\n",
       "    </tr>\n",
       "  </tbody>\n",
       "</table>\n",
       "</div>"
      ],
      "text/plain": [
       "                             effect  error\n",
       "median_income               38479.1  464.0\n",
       "ocean_proximity_INLAND     -25814.1  437.0\n",
       "latitude                   -21012.5   57.0\n",
       "longitude                  -20708.4    1.0\n",
       "ocean_proximity_NEAR OCEAN   4918.5   10.0\n",
       "ocean_proximity_NEAR BAY     2367.5    3.0\n",
       "housing_median_age           1249.7   12.0\n",
       "ocean_proximity_ISLAND        334.6  536.0\n",
       "households                    116.7  612.0\n",
       "total_bedrooms                 49.7  215.0\n",
       "population                    -46.2  713.0\n",
       "total_rooms                    -3.9  842.0\n",
       "ocean_proximity_nan             0.0    0.0"
      ]
     },
     "execution_count": 15,
     "metadata": {},
     "output_type": "execute_result"
    }
   ],
   "source": [
    "# plot feature weights - for bigger data you should calculate them with the optimized model only\n",
    "ridgeCV_simple.print_coef_weights(n_bootstrap=1000)"
   ]
  },
  {
   "cell_type": "code",
   "execution_count": 16,
   "metadata": {},
   "outputs": [
    {
     "data": {
      "text/plain": [
       "LassoCV(alphas=[2000, 5000, 10000], copy_X=True, cv=3, eps=0.001,\n",
       "    fit_intercept=True, max_iter=1000, n_alphas=100, n_jobs=None,\n",
       "    normalize=False, positive=False, precompute='auto', random_state=None,\n",
       "    selection='cyclic', tol=0.0001, verbose=False)\n",
       "\n",
       "RMSE on test data 69953.42, r2-score 0.62."
      ]
     },
     "execution_count": 16,
     "metadata": {},
     "output_type": "execute_result"
    }
   ],
   "source": [
    "# define lassoCV without normalization (but higher alphas)\n",
    "model = LassoCV(alphas=[2000, 5000, 10000],cv=3, fit_intercept=True)\n",
    "# instantiate\n",
    "lassoCV_simple = LinRegModel(housing, 'median_house_value', model)\n",
    "# perform linear regression modelling\n",
    "lassoCV_simple.go_quickDirty()\n",
    "# output scores\n",
    "lassoCV_simple"
   ]
  },
  {
   "cell_type": "code",
   "execution_count": 17,
   "metadata": {},
   "outputs": [
    {
     "data": {
      "text/plain": [
       "2000"
      ]
     },
     "execution_count": 17,
     "metadata": {},
     "output_type": "execute_result"
    }
   ],
   "source": [
    "model.alpha_"
   ]
  },
  {
   "cell_type": "code",
   "execution_count": 18,
   "metadata": {},
   "outputs": [
    {
     "data": {
      "text/html": [
       "<div>\n",
       "<style scoped>\n",
       "    .dataframe tbody tr th:only-of-type {\n",
       "        vertical-align: middle;\n",
       "    }\n",
       "\n",
       "    .dataframe tbody tr th {\n",
       "        vertical-align: top;\n",
       "    }\n",
       "\n",
       "    .dataframe thead th {\n",
       "        text-align: right;\n",
       "    }\n",
       "</style>\n",
       "<table border=\"1\" class=\"dataframe\">\n",
       "  <thead>\n",
       "    <tr style=\"text-align: right;\">\n",
       "      <th></th>\n",
       "      <th>effect</th>\n",
       "      <th>error</th>\n",
       "    </tr>\n",
       "  </thead>\n",
       "  <tbody>\n",
       "    <tr>\n",
       "      <th>median_income</th>\n",
       "      <td>39036.1</td>\n",
       "      <td>1005.0</td>\n",
       "    </tr>\n",
       "    <tr>\n",
       "      <th>ocean_proximity_INLAND</th>\n",
       "      <td>-36038.0</td>\n",
       "      <td>1009.0</td>\n",
       "    </tr>\n",
       "    <tr>\n",
       "      <th>longitude</th>\n",
       "      <td>-20268.9</td>\n",
       "      <td>59.0</td>\n",
       "    </tr>\n",
       "    <tr>\n",
       "      <th>latitude</th>\n",
       "      <td>-20000.1</td>\n",
       "      <td>1.0</td>\n",
       "    </tr>\n",
       "    <tr>\n",
       "      <th>housing_median_age</th>\n",
       "      <td>1171.6</td>\n",
       "      <td>11.0</td>\n",
       "    </tr>\n",
       "    <tr>\n",
       "      <th>households</th>\n",
       "      <td>108.6</td>\n",
       "      <td>3.0</td>\n",
       "    </tr>\n",
       "    <tr>\n",
       "      <th>total_bedrooms</th>\n",
       "      <td>57.8</td>\n",
       "      <td>12.0</td>\n",
       "    </tr>\n",
       "    <tr>\n",
       "      <th>population</th>\n",
       "      <td>-45.7</td>\n",
       "      <td>592.0</td>\n",
       "    </tr>\n",
       "    <tr>\n",
       "      <th>total_rooms</th>\n",
       "      <td>-4.4</td>\n",
       "      <td>1658.0</td>\n",
       "    </tr>\n",
       "    <tr>\n",
       "      <th>ocean_proximity_ISLAND</th>\n",
       "      <td>0.0</td>\n",
       "      <td>0.0</td>\n",
       "    </tr>\n",
       "    <tr>\n",
       "      <th>ocean_proximity_NEAR BAY</th>\n",
       "      <td>0.0</td>\n",
       "      <td>0.0</td>\n",
       "    </tr>\n",
       "    <tr>\n",
       "      <th>ocean_proximity_NEAR OCEAN</th>\n",
       "      <td>0.0</td>\n",
       "      <td>0.0</td>\n",
       "    </tr>\n",
       "    <tr>\n",
       "      <th>ocean_proximity_nan</th>\n",
       "      <td>0.0</td>\n",
       "      <td>0.0</td>\n",
       "    </tr>\n",
       "  </tbody>\n",
       "</table>\n",
       "</div>"
      ],
      "text/plain": [
       "                             effect   error\n",
       "median_income               39036.1  1005.0\n",
       "ocean_proximity_INLAND     -36038.0  1009.0\n",
       "longitude                  -20268.9    59.0\n",
       "latitude                   -20000.1     1.0\n",
       "housing_median_age           1171.6    11.0\n",
       "households                    108.6     3.0\n",
       "total_bedrooms                 57.8    12.0\n",
       "population                    -45.7   592.0\n",
       "total_rooms                    -4.4  1658.0\n",
       "ocean_proximity_ISLAND          0.0     0.0\n",
       "ocean_proximity_NEAR BAY        0.0     0.0\n",
       "ocean_proximity_NEAR OCEAN      0.0     0.0\n",
       "ocean_proximity_nan             0.0     0.0"
      ]
     },
     "execution_count": 18,
     "metadata": {},
     "output_type": "execute_result"
    }
   ],
   "source": [
    "# plot feature weights - for bigger data you should calculate them with the optimized model only\n",
    "lassoCV_simple.print_coef_weights(n_bootstrap=1000)"
   ]
  },
  {
   "cell_type": "code",
   "execution_count": 19,
   "metadata": {},
   "outputs": [
    {
     "data": {
      "text/plain": [
       "ElasticNetCV(alphas=[0.5, 0.1, 1.5], copy_X=True, cv=5, eps=0.001,\n",
       "       fit_intercept=True, l1_ratio=0.5, max_iter=1000, n_alphas=None,\n",
       "       n_jobs=-1, normalize=False, positive=False, precompute='auto',\n",
       "       random_state=None, selection='cyclic', tol=0.0001, verbose=0)\n",
       "\n",
       "RMSE on test data 69760.39, r2-score 0.63."
      ]
     },
     "execution_count": 19,
     "metadata": {},
     "output_type": "execute_result"
    }
   ],
   "source": [
    "# define ElasticNetCV without normalization\n",
    "model = ElasticNetCV(alphas=[0.5, 0.1, 1.5], copy_X=True, cv=5, eps=0.001, fit_intercept=True,\n",
    "       l1_ratio=0.5, max_iter=1000, n_alphas=None, n_jobs=-1)\n",
    "# instantiate\n",
    "elasticNetCV_simple = LinRegModel(housing, 'median_house_value', model)\n",
    "# perform linear regression modelling on instance\n",
    "elasticNetCV_simple.go_quickDirty()\n",
    "# output scores\n",
    "elasticNetCV_simple"
   ]
  },
  {
   "cell_type": "markdown",
   "metadata": {},
   "source": [
    "***"
   ]
  },
  {
   "cell_type": "markdown",
   "metadata": {},
   "source": [
    "## Second approach with proper data preparation"
   ]
  },
  {
   "cell_type": "code",
   "execution_count": 20,
   "metadata": {},
   "outputs": [],
   "source": [
    "housing = pd.read_csv('../data/housing.csv')"
   ]
  },
  {
   "cell_type": "code",
   "execution_count": 21,
   "metadata": {},
   "outputs": [
    {
     "name": "stdout",
     "output_type": "stream",
     "text": [
      "<class 'pandas.core.frame.DataFrame'>\n",
      "RangeIndex: 20640 entries, 0 to 20639\n",
      "Data columns (total 10 columns):\n",
      "longitude             20640 non-null float64\n",
      "latitude              20640 non-null float64\n",
      "housing_median_age    20640 non-null float64\n",
      "total_rooms           20640 non-null float64\n",
      "total_bedrooms        20433 non-null float64\n",
      "population            20640 non-null float64\n",
      "households            20640 non-null float64\n",
      "median_income         20640 non-null float64\n",
      "median_house_value    20640 non-null float64\n",
      "ocean_proximity       20640 non-null object\n",
      "dtypes: float64(9), object(1)\n",
      "memory usage: 1.6+ MB\n"
     ]
    }
   ],
   "source": [
    "housing.info()"
   ]
  },
  {
   "cell_type": "code",
   "execution_count": 22,
   "metadata": {},
   "outputs": [
    {
     "data": {
      "image/png": "[encoded data removed]",
      "text/plain": [
       "<Figure size 1152x1152 with 9 Axes>"
      ]
     },
     "metadata": {
      "needs_background": "light"
     },
     "output_type": "display_data"
    }
   ],
   "source": [
    "EDA_functions.plot_num_hist(housing)"
   ]
  },
  {
   "cell_type": "code",
   "execution_count": 23,
   "metadata": {},
   "outputs": [
    {
     "name": "stdout",
     "output_type": "stream",
     "text": [
      "longitude\n",
      "Identified outliers: 0\n",
      "Percentage of outliers: 0.0%\n",
      "\n",
      "latitude\n",
      "Identified outliers: 0\n",
      "Percentage of outliers: 0.0%\n",
      "\n",
      "housing_median_age\n",
      "Identified outliers: 0\n",
      "Percentage of outliers: 0.0%\n",
      "\n",
      "total_rooms\n",
      "Identified outliers: 643\n",
      "Percentage of outliers: 3.1%\n",
      "\n",
      "total_bedrooms\n",
      "Identified outliers: 626\n",
      "Percentage of outliers: 3.0%\n",
      "\n",
      "population\n",
      "Identified outliers: 565\n",
      "Percentage of outliers: 2.7%\n",
      "\n",
      "households\n",
      "Identified outliers: 601\n",
      "Percentage of outliers: 2.9%\n",
      "\n",
      "median_income\n",
      "Identified outliers: 266\n",
      "Percentage of outliers: 1.3%\n",
      "\n",
      "median_house_value\n",
      "Identified outliers: 0\n",
      "Percentage of outliers: 0.0%\n",
      "\n"
     ]
    }
   ],
   "source": [
    "cleaning_functions.count_outliers_IQR_method(housing, IQR_dist=2.5)"
   ]
  },
  {
   "cell_type": "code",
   "execution_count": 24,
   "metadata": {},
   "outputs": [
    {
     "name": "stdout",
     "output_type": "stream",
     "text": [
      "longitude\n",
      "Rows removed: 0\n",
      "\n",
      "latitude\n",
      "Rows removed: 0\n",
      "\n",
      "housing_median_age\n",
      "Rows removed: 0\n",
      "\n",
      "total_rooms\n",
      "Rows removed: 643\n",
      "\n",
      "total_bedrooms\n",
      "Rows removed: 226\n",
      "\n",
      "population\n",
      "Rows removed: 161\n",
      "\n",
      "households\n",
      "Rows removed: 34\n",
      "\n",
      "median_income\n",
      "Rows removed: 259\n",
      "\n",
      "median_house_value\n",
      "Rows removed: 0\n",
      "\n",
      "\n",
      "Rows removed in total: 1323\n",
      "\n"
     ]
    }
   ],
   "source": [
    "cleaning_functions.remove_outliers_IQR_method(housing, IQR_dist=2.5)"
   ]
  },
  {
   "cell_type": "code",
   "execution_count": 25,
   "metadata": {},
   "outputs": [
    {
     "data": {
      "image/png": "[encoded data removed]",
      "text/plain": [
       "<Figure size 1152x1152 with 9 Axes>"
      ]
     },
     "metadata": {
      "needs_background": "light"
     },
     "output_type": "display_data"
    }
   ],
   "source": [
    "EDA_functions.plot_num_hist(housing)"
   ]
  },
  {
   "cell_type": "code",
   "execution_count": 26,
   "metadata": {},
   "outputs": [
    {
     "ename": "TypeError",
     "evalue": "apply_log10() missing 1 required positional argument: 'cols_to_log10'",
     "output_type": "error",
     "traceback": [
      "\u001b[1;31m---------------------------------------------------------------------------\u001b[0m",
      "\u001b[1;31mTypeError\u001b[0m                                 Traceback (most recent call last)",
      "\u001b[1;32m<ipython-input-26-7bb075e5e8a5>\u001b[0m in \u001b[0;36m<module>\u001b[1;34m()\u001b[0m\n\u001b[1;32m----> 1\u001b[1;33m \u001b[0mcleaning_functions\u001b[0m\u001b[1;33m.\u001b[0m\u001b[0mapply_log10\u001b[0m\u001b[1;33m(\u001b[0m\u001b[0mhousing\u001b[0m\u001b[1;33m)\u001b[0m\u001b[1;33m\u001b[0m\u001b[0m\n\u001b[0m",
      "\u001b[1;31mTypeError\u001b[0m: apply_log10() missing 1 required positional argument: 'cols_to_log10'"
     ]
    }
   ],
   "source": [
    "cleaning_functions.apply_log10(housing)"
   ]
  },
  {
   "cell_type": "code",
   "execution_count": null,
   "metadata": {},
   "outputs": [],
   "source": []
  }
 ],
 "metadata": {
  "kernelspec": {
   "display_name": "Python [default]",
   "language": "python",
   "name": "python3"
  },
  "language_info": {
   "codemirror_mode": {
    "name": "ipython",
    "version": 3
   },
   "file_extension": ".py",
   "mimetype": "text/x-python",
   "name": "python",
   "nbconvert_exporter": "python",
   "pygments_lexer": "ipython3",
   "version": "3.6.3"
  }
 },
 "nbformat": 4,
 "nbformat_minor": 2
}
