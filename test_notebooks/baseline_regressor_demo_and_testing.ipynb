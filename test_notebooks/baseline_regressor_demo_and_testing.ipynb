{
 "cells": [
  {
   "cell_type": "markdown",
   "metadata": {},
   "source": [
    "# Demo of `BaselineRegressor` Class and its Methods"
   ]
  },
  {
   "cell_type": "markdown",
   "metadata": {
    "toc": true
   },
   "source": [
    "<h1>Table of Contents<span class=\"tocSkip\"></span></h1>\n",
    "<div class=\"toc\"><ul class=\"toc-item\"><li><span><a href=\"#Load-libraries-and-data\" data-toc-modified-id=\"Load-libraries-and-data-1\"><span class=\"toc-item-num\">1&nbsp;&nbsp;</span>Load libraries and data</a></span><ul class=\"toc-item\"><li><span><a href=\"#Check-dataframe-structure\" data-toc-modified-id=\"Check-dataframe-structure-1.1\"><span class=\"toc-item-num\">1.1&nbsp;&nbsp;</span>Check dataframe structure</a></span></li></ul></li><li><span><a href=\"#Initialize-the-models\" data-toc-modified-id=\"Initialize-the-models-2\"><span class=\"toc-item-num\">2&nbsp;&nbsp;</span>Initialize the models</a></span></li><li><span><a href=\"#Use-the-function-go_quickDirty-for-one-step-linear-regression-modelling\" data-toc-modified-id=\"Use-the-function-go_quickDirty-for-one-step-linear-regression-modelling-3\"><span class=\"toc-item-num\">3&nbsp;&nbsp;</span>Use the function <code>go_quickDirty</code> for one-step linear regression modelling</a></span><ul class=\"toc-item\"><li><span><a href=\"#Compare-to-Naive-Baseline---NOT-YET-IMPLEMENTED-FOR-REGRESSION\" data-toc-modified-id=\"Compare-to-Naive-Baseline---NOT-YET-IMPLEMENTED-FOR-REGRESSION-3.1\"><span class=\"toc-item-num\">3.1&nbsp;&nbsp;</span>Compare to Naive Baseline - NOT YET IMPLEMENTED FOR REGRESSION</a></span></li><li><span><a href=\"#Evaluate-the-model-in-more-detail\" data-toc-modified-id=\"Evaluate-the-model-in-more-detail-3.2\"><span class=\"toc-item-num\">3.2&nbsp;&nbsp;</span>Evaluate the model in more detail</a></span></li></ul></li><li><span><a href=\"#Use-the-function-go_quickDirty-for-one-step-tree-based-modelling\" data-toc-modified-id=\"Use-the-function-go_quickDirty-for-one-step-tree-based-modelling-4\"><span class=\"toc-item-num\">4&nbsp;&nbsp;</span>Use the function <code>go_quickDirty</code> for one-step tree-based modelling</a></span><ul class=\"toc-item\"><li><span><a href=\"#Examine-feature-weights\" data-toc-modified-id=\"Examine-feature-weights-4.1\"><span class=\"toc-item-num\">4.1&nbsp;&nbsp;</span>Examine feature weights</a></span></li></ul></li></ul></div>"
   ]
  },
  {
   "cell_type": "markdown",
   "metadata": {},
   "source": [
    "## Load libraries and data"
   ]
  },
  {
   "cell_type": "code",
   "execution_count": 3,
   "metadata": {
    "ExecuteTime": {
     "end_time": "2019-08-15T20:41:38.578738Z",
     "start_time": "2019-08-15T20:41:38.547592Z"
    }
   },
   "outputs": [],
   "source": [
    "import numpy as np\n",
    "import pandas as pd\n",
    "\n",
    "import EDA_functions, cleaning_functions\n",
    "from baseline_regressor import BaselineRegression\n",
    "\n",
    "from sklearn.linear_model import LinearRegression\n",
    "from sklearn.ensemble import RandomForestRegressor, GradientBoostingRegressor\n",
    "from sklearn.model_selection import train_test_split, learning_curve\n",
    "from sklearn.metrics import r2_score, mean_squared_error\n",
    "from sklearn.utils import resample  # for error calculation of feature weights\n",
    "\n",
    "import matplotlib.pyplot as plt\n",
    "import seaborn as sns\n",
    "sns.set()\n",
    "%matplotlib inline\n",
    "\n",
    "# display all columns in df\n",
    "from IPython.display import display\n",
    "pd.options.display.max_columns = None"
   ]
  },
  {
   "cell_type": "markdown",
   "metadata": {
    "ExecuteTime": {
     "end_time": "2019-08-15T20:41:20.743013Z",
     "start_time": "2019-08-15T20:41:20.727038Z"
    }
   },
   "source": [
    "** WORK IN PROGRESS, ACTUALLY NOT EVEN STARTED YET **"
   ]
  },
  {
   "cell_type": "code",
   "execution_count": 4,
   "metadata": {
    "ExecuteTime": {
     "end_time": "2019-08-15T20:41:39.848417Z",
     "start_time": "2019-08-15T20:41:39.795234Z"
    }
   },
   "outputs": [],
   "source": [
    "housing = pd.read_csv('../data/housing.csv')"
   ]
  },
  {
   "cell_type": "markdown",
   "metadata": {},
   "source": [
    "### Check dataframe structure\n",
    "(For real projects some of the steps below should only be performed after separating the test set)"
   ]
  },
  {
   "cell_type": "code",
   "execution_count": 5,
   "metadata": {
    "ExecuteTime": {
     "end_time": "2019-08-15T20:41:45.307624Z",
     "start_time": "2019-08-15T20:41:45.268117Z"
    }
   },
   "outputs": [
    {
     "name": "stdout",
     "output_type": "stream",
     "text": [
      "<class 'pandas.core.frame.DataFrame'>\n",
      "RangeIndex: 20640 entries, 0 to 20639\n",
      "Data columns (total 10 columns):\n",
      "longitude             20640 non-null float64\n",
      "latitude              20640 non-null float64\n",
      "housing_median_age    20640 non-null float64\n",
      "total_rooms           20640 non-null float64\n",
      "total_bedrooms        20433 non-null float64\n",
      "population            20640 non-null float64\n",
      "households            20640 non-null float64\n",
      "median_income         20640 non-null float64\n",
      "median_house_value    20640 non-null float64\n",
      "ocean_proximity       20640 non-null object\n",
      "dtypes: float64(9), object(1)\n",
      "memory usage: 1.6+ MB\n"
     ]
    }
   ],
   "source": [
    "housing.info()"
   ]
  },
  {
   "cell_type": "code",
   "execution_count": 6,
   "metadata": {
    "ExecuteTime": {
     "end_time": "2019-08-15T20:41:45.716150Z",
     "start_time": "2019-08-15T20:41:45.684684Z"
    }
   },
   "outputs": [
    {
     "data": {
      "text/html": [
       "<div>\n",
       "<style scoped>\n",
       "    .dataframe tbody tr th:only-of-type {\n",
       "        vertical-align: middle;\n",
       "    }\n",
       "\n",
       "    .dataframe tbody tr th {\n",
       "        vertical-align: top;\n",
       "    }\n",
       "\n",
       "    .dataframe thead th {\n",
       "        text-align: right;\n",
       "    }\n",
       "</style>\n",
       "<table border=\"1\" class=\"dataframe\">\n",
       "  <thead>\n",
       "    <tr style=\"text-align: right;\">\n",
       "      <th></th>\n",
       "      <th>longitude</th>\n",
       "      <th>latitude</th>\n",
       "      <th>housing_median_age</th>\n",
       "      <th>total_rooms</th>\n",
       "      <th>total_bedrooms</th>\n",
       "      <th>population</th>\n",
       "      <th>households</th>\n",
       "      <th>median_income</th>\n",
       "      <th>median_house_value</th>\n",
       "      <th>ocean_proximity</th>\n",
       "    </tr>\n",
       "  </thead>\n",
       "  <tbody>\n",
       "    <tr>\n",
       "      <th>4257</th>\n",
       "      <td>-118.35</td>\n",
       "      <td>34.10</td>\n",
       "      <td>24.0</td>\n",
       "      <td>5477.0</td>\n",
       "      <td>1803.0</td>\n",
       "      <td>2863.0</td>\n",
       "      <td>1755.0</td>\n",
       "      <td>1.8450</td>\n",
       "      <td>237500.0</td>\n",
       "      <td>&lt;1H OCEAN</td>\n",
       "    </tr>\n",
       "    <tr>\n",
       "      <th>6984</th>\n",
       "      <td>-118.02</td>\n",
       "      <td>33.96</td>\n",
       "      <td>36.0</td>\n",
       "      <td>2071.0</td>\n",
       "      <td>398.0</td>\n",
       "      <td>988.0</td>\n",
       "      <td>404.0</td>\n",
       "      <td>4.6226</td>\n",
       "      <td>219700.0</td>\n",
       "      <td>&lt;1H OCEAN</td>\n",
       "    </tr>\n",
       "    <tr>\n",
       "      <th>9678</th>\n",
       "      <td>-118.99</td>\n",
       "      <td>37.65</td>\n",
       "      <td>20.0</td>\n",
       "      <td>2474.0</td>\n",
       "      <td>625.0</td>\n",
       "      <td>338.0</td>\n",
       "      <td>141.0</td>\n",
       "      <td>5.0100</td>\n",
       "      <td>195500.0</td>\n",
       "      <td>INLAND</td>\n",
       "    </tr>\n",
       "  </tbody>\n",
       "</table>\n",
       "</div>"
      ],
      "text/plain": [
       "      longitude  latitude  housing_median_age  total_rooms  total_bedrooms  \\\n",
       "4257    -118.35     34.10                24.0       5477.0          1803.0   \n",
       "6984    -118.02     33.96                36.0       2071.0           398.0   \n",
       "9678    -118.99     37.65                20.0       2474.0           625.0   \n",
       "\n",
       "      population  households  median_income  median_house_value  \\\n",
       "4257      2863.0      1755.0         1.8450            237500.0   \n",
       "6984       988.0       404.0         4.6226            219700.0   \n",
       "9678       338.0       141.0         5.0100            195500.0   \n",
       "\n",
       "     ocean_proximity  \n",
       "4257       <1H OCEAN  \n",
       "6984       <1H OCEAN  \n",
       "9678          INLAND  "
      ]
     },
     "execution_count": 6,
     "metadata": {},
     "output_type": "execute_result"
    }
   ],
   "source": [
    "housing.sample(3)"
   ]
  },
  {
   "cell_type": "code",
   "execution_count": 7,
   "metadata": {
    "ExecuteTime": {
     "end_time": "2019-08-15T20:41:46.817538Z",
     "start_time": "2019-08-15T20:41:46.301336Z"
    }
   },
   "outputs": [
    {
     "data": {
      "image/png": "[encoded data removed]",
      "text/plain": [
       "<Figure size 1296x432 with 1 Axes>"
      ]
     },
     "metadata": {
      "needs_background": "light"
     },
     "output_type": "display_data"
    }
   ],
   "source": [
    "cleaning_functions.plot_NaN(housing)"
   ]
  },
  {
   "cell_type": "code",
   "execution_count": 8,
   "metadata": {
    "ExecuteTime": {
     "end_time": "2019-08-15T20:41:46.850502Z",
     "start_time": "2019-08-15T20:41:46.817538Z"
    }
   },
   "outputs": [
    {
     "data": {
      "text/html": [
       "<div>\n",
       "<style scoped>\n",
       "    .dataframe tbody tr th:only-of-type {\n",
       "        vertical-align: middle;\n",
       "    }\n",
       "\n",
       "    .dataframe tbody tr th {\n",
       "        vertical-align: top;\n",
       "    }\n",
       "\n",
       "    .dataframe thead th {\n",
       "        text-align: right;\n",
       "    }\n",
       "</style>\n",
       "<table border=\"1\" class=\"dataframe\">\n",
       "  <thead>\n",
       "    <tr style=\"text-align: right;\">\n",
       "      <th></th>\n",
       "      <th>total</th>\n",
       "      <th>percent</th>\n",
       "      <th>dtype</th>\n",
       "    </tr>\n",
       "  </thead>\n",
       "  <tbody>\n",
       "    <tr>\n",
       "      <th>total_bedrooms</th>\n",
       "      <td>207</td>\n",
       "      <td>1.0</td>\n",
       "      <td>float64</td>\n",
       "    </tr>\n",
       "  </tbody>\n",
       "</table>\n",
       "</div>"
      ],
      "text/plain": [
       "                total  percent    dtype\n",
       "total_bedrooms    207      1.0  float64"
      ]
     },
     "metadata": {},
     "output_type": "display_data"
    }
   ],
   "source": [
    "cleaning_functions.list_NaN(housing)"
   ]
  },
  {
   "cell_type": "markdown",
   "metadata": {},
   "source": [
    "## Initialize the models"
   ]
  },
  {
   "cell_type": "markdown",
   "metadata": {},
   "source": [
    "First step is to initialize a (or a couple of different) linear scikit-learn model object with it's correspoding parameters. "
   ]
  },
  {
   "cell_type": "code",
   "execution_count": 9,
   "metadata": {
    "ExecuteTime": {
     "end_time": "2019-08-15T20:41:49.917111Z",
     "start_time": "2019-08-15T20:41:49.876537Z"
    }
   },
   "outputs": [],
   "source": [
    "\"Logistic regression model\"\n",
    "\n",
    "# Define a scikit-learn model object you want to work with\n",
    "model_lin = LinearRegression(normalize=True)\n",
    "# Create an instance of the LinRegModel class by passing the dataframe, the target variable and the model object\n",
    "linReg_simple = BaselineRegression(housing, 'median_house_value', model_lin)"
   ]
  },
  {
   "cell_type": "code",
   "execution_count": 10,
   "metadata": {
    "ExecuteTime": {
     "end_time": "2019-08-15T20:41:51.362791Z",
     "start_time": "2019-08-15T20:41:51.346725Z"
    }
   },
   "outputs": [
    {
     "data": {
      "text/plain": [
       "LinearRegression(copy_X=True, fit_intercept=True, n_jobs=None, normalize=True)"
      ]
     },
     "execution_count": 10,
     "metadata": {},
     "output_type": "execute_result"
    }
   ],
   "source": [
    "# You can output the model with help of the instance variable name\n",
    "linReg_simple"
   ]
  },
  {
   "cell_type": "code",
   "execution_count": 11,
   "metadata": {
    "ExecuteTime": {
     "end_time": "2019-08-15T20:41:51.793879Z",
     "start_time": "2019-08-15T20:41:51.778473Z"
    }
   },
   "outputs": [],
   "source": [
    "\"Random Forest model\"\n",
    "\n",
    "# Define a scikit-learn model object you want to work with\n",
    "model_rf = RandomForestRegressor(n_estimators=30)\n",
    "# Create an instance of the LinRegModel class by passing the dataframe, the target variable and the model object\n",
    "rf_simple = BaselineRegression(housing, 'median_house_value', model_rf)"
   ]
  },
  {
   "cell_type": "code",
   "execution_count": 12,
   "metadata": {
    "ExecuteTime": {
     "end_time": "2019-08-15T20:41:52.366100Z",
     "start_time": "2019-08-15T20:41:52.331720Z"
    }
   },
   "outputs": [
    {
     "data": {
      "text/plain": [
       "RandomForestRegressor(bootstrap=True, criterion='mse', max_depth=None,\n",
       "           max_features='auto', max_leaf_nodes=None,\n",
       "           min_impurity_decrease=0.0, min_impurity_split=None,\n",
       "           min_samples_leaf=1, min_samples_split=2,\n",
       "           min_weight_fraction_leaf=0.0, n_estimators=30, n_jobs=None,\n",
       "           oob_score=False, random_state=None, verbose=0, warm_start=False)"
      ]
     },
     "execution_count": 12,
     "metadata": {},
     "output_type": "execute_result"
    }
   ],
   "source": [
    "# You can output the model with help of the instance variable name\n",
    "rf_simple"
   ]
  },
  {
   "cell_type": "code",
   "execution_count": 18,
   "metadata": {
    "ExecuteTime": {
     "end_time": "2019-08-15T20:44:01.725577Z",
     "start_time": "2019-08-15T20:44:01.688251Z"
    }
   },
   "outputs": [],
   "source": [
    "\"Gradient Boosting model\"\n",
    "\n",
    "# Define a scikit-learn model object you want to work with\n",
    "model_gbc = GradientBoostingRegressor(n_estimators=100)\n",
    "# Create an instance of the LinRegModel class by passing the dataframe, the target variable and the model object\n",
    "gbc_simple = BaselineRegression(housing, 'median_house_value', model_gbc)"
   ]
  },
  {
   "cell_type": "code",
   "execution_count": 19,
   "metadata": {
    "ExecuteTime": {
     "end_time": "2019-08-15T20:44:02.227184Z",
     "start_time": "2019-08-15T20:44:02.189767Z"
    }
   },
   "outputs": [
    {
     "data": {
      "text/plain": [
       "GradientBoostingRegressor(alpha=0.9, criterion='friedman_mse', init=None,\n",
       "             learning_rate=0.1, loss='ls', max_depth=3, max_features=None,\n",
       "             max_leaf_nodes=None, min_impurity_decrease=0.0,\n",
       "             min_impurity_split=None, min_samples_leaf=1,\n",
       "             min_samples_split=2, min_weight_fraction_leaf=0.0,\n",
       "             n_estimators=100, n_iter_no_change=None, presort='auto',\n",
       "             random_state=None, subsample=1.0, tol=0.0001,\n",
       "             validation_fraction=0.1, verbose=0, warm_start=False)"
      ]
     },
     "execution_count": 19,
     "metadata": {},
     "output_type": "execute_result"
    }
   ],
   "source": [
    "# You can output the model with help of the instance variable name\n",
    "gbc_simple"
   ]
  },
  {
   "cell_type": "markdown",
   "metadata": {},
   "source": [
    "## Use the function `go_quickDirty` for one-step linear regression modelling"
   ]
  },
  {
   "cell_type": "markdown",
   "metadata": {},
   "source": [
    "`go_quickDirty` is a method of the BaselineClassification class for preprocessing data, fitting and testing a regression model _in one step_. You can pass (almost) any unprepared data. (It is called quick & dirty because the preprocessing is quite unsophisticated: NA values will be  handled in a simple way, categorical variables dummied. But there is no outlier treatment or scaling.)\n",
    "\n",
    "Details on preprocessing for non-tree-based models:\n",
    "- All columns with dtype object and category will be one-hot-encoded. (Make sure they all have categorical character.)\n",
    "- All NaN in numerical cols will be imputed with mean, all NaN in non-numerical columns will be dummied (for mixing into the zero category, change the 'dummy_na' parameter)"
   ]
  },
  {
   "cell_type": "code",
   "execution_count": 20,
   "metadata": {
    "ExecuteTime": {
     "end_time": "2019-08-15T20:44:08.191639Z",
     "start_time": "2019-08-15T20:44:08.138512Z"
    }
   },
   "outputs": [
    {
     "name": "stdout",
     "output_type": "stream",
     "text": [
      "LinearRegression\n",
      "\n",
      "RMSE: 0.6038\n",
      "r2: 0.6265\n"
     ]
    }
   ],
   "source": [
    "# Perform linear regression modelling on instance\n",
    "linReg_simple.go_quickDirty(tree_based=False, transform=False)"
   ]
  },
  {
   "cell_type": "markdown",
   "metadata": {
    "ExecuteTime": {
     "end_time": "2019-08-03T13:36:16.978250Z",
     "start_time": "2019-08-03T13:36:16.962604Z"
    }
   },
   "source": [
    "### Compare to Naive Baseline - NOT YET IMPLEMENTED FOR REGRESSION"
   ]
  },
  {
   "cell_type": "markdown",
   "metadata": {},
   "source": [
    "For a naive baseline, we can randomly guess that an instance is of the positive class in the same frequence of the positive classified instances in the training data. We'll assess the predictions using the same metrics as the proper baseline model."
   ]
  },
  {
   "cell_type": "code",
   "execution_count": null,
   "metadata": {
    "ExecuteTime": {
     "end_time": "2019-08-15T20:41:20.809930Z",
     "start_time": "2019-08-15T20:41:18.810Z"
    }
   },
   "outputs": [],
   "source": [
    "# linReg_simple.compare_to_naive()"
   ]
  },
  {
   "cell_type": "markdown",
   "metadata": {},
   "source": [
    "### Evaluate the model in more detail"
   ]
  },
  {
   "cell_type": "code",
   "execution_count": 21,
   "metadata": {
    "ExecuteTime": {
     "end_time": "2019-08-15T20:49:22.725480Z",
     "start_time": "2019-08-15T20:49:19.173305Z"
    },
    "scrolled": false
   },
   "outputs": [
    {
     "name": "stdout",
     "output_type": "stream",
     "text": [
      "[learning_curve] Training set sizes: [  115   717  1320  1922  2524  3126  3728  4331  4933  5535  6137  6740\n",
      "  7342  7944  8546  9149  9751 10353 10955 11558]\n"
     ]
    },
    {
     "name": "stderr",
     "output_type": "stream",
     "text": [
      "[Parallel(n_jobs=-1)]: Using backend LokyBackend with 4 concurrent workers.\n",
      "[Parallel(n_jobs=-1)]: Done 100 out of 100 | elapsed:    3.2s finished\n"
     ]
    },
    {
     "data": {
      "image/png": "[encoded data removed]",
      "text/plain": [
       "<Figure size 1152x288 with 1 Axes>"
      ]
     },
     "metadata": {
      "needs_background": "light"
     },
     "output_type": "display_data"
    }
   ],
   "source": [
    "# Plot learning curves using 5-fold cross validation\n",
    "linReg_simple.plot_learning_curves()"
   ]
  },
  {
   "cell_type": "code",
   "execution_count": 23,
   "metadata": {
    "ExecuteTime": {
     "end_time": "2019-08-15T20:51:47.861091Z",
     "start_time": "2019-08-15T20:51:47.773248Z"
    }
   },
   "outputs": [
    {
     "data": {
      "text/html": [
       "<div>\n",
       "<style scoped>\n",
       "    .dataframe tbody tr th:only-of-type {\n",
       "        vertical-align: middle;\n",
       "    }\n",
       "\n",
       "    .dataframe tbody tr th {\n",
       "        vertical-align: top;\n",
       "    }\n",
       "\n",
       "    .dataframe thead th {\n",
       "        text-align: right;\n",
       "    }\n",
       "</style>\n",
       "<table border=\"1\" class=\"dataframe\">\n",
       "  <thead>\n",
       "    <tr style=\"text-align: right;\">\n",
       "      <th></th>\n",
       "      <th>effect</th>\n",
       "      <th>error</th>\n",
       "    </tr>\n",
       "  </thead>\n",
       "  <tbody>\n",
       "    <tr>\n",
       "      <th>longitude</th>\n",
       "      <td>-0.5</td>\n",
       "      <td>0.0</td>\n",
       "    </tr>\n",
       "    <tr>\n",
       "      <th>latitude</th>\n",
       "      <td>-0.5</td>\n",
       "      <td>0.0</td>\n",
       "    </tr>\n",
       "    <tr>\n",
       "      <th>housing_median_age</th>\n",
       "      <td>-0.5</td>\n",
       "      <td>0.0</td>\n",
       "    </tr>\n",
       "    <tr>\n",
       "      <th>total_rooms</th>\n",
       "      <td>-0.5</td>\n",
       "      <td>0.0</td>\n",
       "    </tr>\n",
       "    <tr>\n",
       "      <th>total_bedrooms</th>\n",
       "      <td>-0.5</td>\n",
       "      <td>0.0</td>\n",
       "    </tr>\n",
       "    <tr>\n",
       "      <th>population</th>\n",
       "      <td>-0.5</td>\n",
       "      <td>0.0</td>\n",
       "    </tr>\n",
       "    <tr>\n",
       "      <th>households</th>\n",
       "      <td>-0.5</td>\n",
       "      <td>0.0</td>\n",
       "    </tr>\n",
       "    <tr>\n",
       "      <th>median_income</th>\n",
       "      <td>-0.5</td>\n",
       "      <td>0.0</td>\n",
       "    </tr>\n",
       "    <tr>\n",
       "      <th>ocean_proximity_INLAND</th>\n",
       "      <td>-0.5</td>\n",
       "      <td>0.0</td>\n",
       "    </tr>\n",
       "    <tr>\n",
       "      <th>ocean_proximity_ISLAND</th>\n",
       "      <td>-0.5</td>\n",
       "      <td>0.0</td>\n",
       "    </tr>\n",
       "    <tr>\n",
       "      <th>ocean_proximity_NEAR BAY</th>\n",
       "      <td>-0.5</td>\n",
       "      <td>0.0</td>\n",
       "    </tr>\n",
       "    <tr>\n",
       "      <th>ocean_proximity_NEAR OCEAN</th>\n",
       "      <td>-0.5</td>\n",
       "      <td>0.0</td>\n",
       "    </tr>\n",
       "    <tr>\n",
       "      <th>ocean_proximity_nan</th>\n",
       "      <td>-0.5</td>\n",
       "      <td>0.0</td>\n",
       "    </tr>\n",
       "  </tbody>\n",
       "</table>\n",
       "</div>"
      ],
      "text/plain": [
       "                            effect  error\n",
       "longitude                     -0.5    0.0\n",
       "latitude                      -0.5    0.0\n",
       "housing_median_age            -0.5    0.0\n",
       "total_rooms                   -0.5    0.0\n",
       "total_bedrooms                -0.5    0.0\n",
       "population                    -0.5    0.0\n",
       "households                    -0.5    0.0\n",
       "median_income                 -0.5    0.0\n",
       "ocean_proximity_INLAND        -0.5    0.0\n",
       "ocean_proximity_ISLAND        -0.5    0.0\n",
       "ocean_proximity_NEAR BAY      -0.5    0.0\n",
       "ocean_proximity_NEAR OCEAN    -0.5    0.0\n",
       "ocean_proximity_nan           -0.5    0.0"
      ]
     },
     "metadata": {},
     "output_type": "display_data"
    },
    {
     "name": "stdout",
     "output_type": "stream",
     "text": [
      "\n",
      "\n"
     ]
    },
    {
     "data": {
      "text/html": [
       "<div>\n",
       "<style scoped>\n",
       "    .dataframe tbody tr th:only-of-type {\n",
       "        vertical-align: middle;\n",
       "    }\n",
       "\n",
       "    .dataframe tbody tr th {\n",
       "        vertical-align: top;\n",
       "    }\n",
       "\n",
       "    .dataframe thead th {\n",
       "        text-align: right;\n",
       "    }\n",
       "</style>\n",
       "<table border=\"1\" class=\"dataframe\">\n",
       "  <thead>\n",
       "    <tr style=\"text-align: right;\">\n",
       "      <th></th>\n",
       "      <th>effect</th>\n",
       "      <th>error</th>\n",
       "    </tr>\n",
       "    <tr>\n",
       "      <th>category</th>\n",
       "      <th></th>\n",
       "      <th></th>\n",
       "    </tr>\n",
       "  </thead>\n",
       "  <tbody>\n",
       "    <tr>\n",
       "      <th>ocean</th>\n",
       "      <td>-2.5</td>\n",
       "      <td>0.0</td>\n",
       "    </tr>\n",
       "    <tr>\n",
       "      <th>total</th>\n",
       "      <td>-1.0</td>\n",
       "      <td>0.0</td>\n",
       "    </tr>\n",
       "    <tr>\n",
       "      <th>households</th>\n",
       "      <td>-0.5</td>\n",
       "      <td>0.0</td>\n",
       "    </tr>\n",
       "    <tr>\n",
       "      <th>housing</th>\n",
       "      <td>-0.5</td>\n",
       "      <td>0.0</td>\n",
       "    </tr>\n",
       "    <tr>\n",
       "      <th>latitude</th>\n",
       "      <td>-0.5</td>\n",
       "      <td>0.0</td>\n",
       "    </tr>\n",
       "    <tr>\n",
       "      <th>longitude</th>\n",
       "      <td>-0.5</td>\n",
       "      <td>0.0</td>\n",
       "    </tr>\n",
       "    <tr>\n",
       "      <th>median</th>\n",
       "      <td>-0.5</td>\n",
       "      <td>0.0</td>\n",
       "    </tr>\n",
       "    <tr>\n",
       "      <th>population</th>\n",
       "      <td>-0.5</td>\n",
       "      <td>0.0</td>\n",
       "    </tr>\n",
       "  </tbody>\n",
       "</table>\n",
       "</div>"
      ],
      "text/plain": [
       "            effect  error\n",
       "category                 \n",
       "ocean         -2.5    0.0\n",
       "total         -1.0    0.0\n",
       "households    -0.5    0.0\n",
       "housing       -0.5    0.0\n",
       "latitude      -0.5    0.0\n",
       "longitude     -0.5    0.0\n",
       "median        -0.5    0.0\n",
       "population    -0.5    0.0"
      ]
     },
     "metadata": {},
     "output_type": "display_data"
    }
   ],
   "source": [
    "# Plot feature weights (error estimation by bootstrapping)\n",
    "linReg_simple.print_coef_weights(n_bootstrap=5)"
   ]
  },
  {
   "cell_type": "markdown",
   "metadata": {},
   "source": [
    "***"
   ]
  },
  {
   "cell_type": "markdown",
   "metadata": {
    "ExecuteTime": {
     "end_time": "2019-08-15T14:14:32.222472Z",
     "start_time": "2019-08-15T14:14:32.218482Z"
    }
   },
   "source": [
    "## Use the function `go_quickDirty` for one-step tree-based modelling"
   ]
  },
  {
   "cell_type": "code",
   "execution_count": 24,
   "metadata": {
    "ExecuteTime": {
     "end_time": "2019-08-15T20:52:06.114007Z",
     "start_time": "2019-08-15T20:52:01.165778Z"
    }
   },
   "outputs": [
    {
     "name": "stdout",
     "output_type": "stream",
     "text": [
      "RandomForestRegressor\n",
      "\n",
      "RMSE: 51119.9636\n",
      "r2: 0.7989\n"
     ]
    }
   ],
   "source": [
    "# Run Random Forest\n",
    "rf_simple.go_quickDirty(tree_based=True)"
   ]
  },
  {
   "cell_type": "code",
   "execution_count": 25,
   "metadata": {
    "ExecuteTime": {
     "end_time": "2019-08-15T20:52:17.011139Z",
     "start_time": "2019-08-15T20:52:16.337721Z"
    }
   },
   "outputs": [
    {
     "name": "stdout",
     "output_type": "stream",
     "text": [
      "GradientBoostingRegressor\n",
      "\n",
      "RMSE: 55644.6795\n",
      "r2: 0.7618\n"
     ]
    }
   ],
   "source": [
    "# Run Gradient Boosting\n",
    "gbc_simple.go_quickDirty(tree_based=True)"
   ]
  },
  {
   "cell_type": "markdown",
   "metadata": {},
   "source": [
    "### Examine feature weights"
   ]
  },
  {
   "cell_type": "code",
   "execution_count": 26,
   "metadata": {
    "ExecuteTime": {
     "end_time": "2019-08-15T20:52:24.144169Z",
     "start_time": "2019-08-15T20:52:23.905515Z"
    }
   },
   "outputs": [
    {
     "data": {
      "image/png": "[encoded data removed]",
      "text/plain": [
       "<Figure size 1152x360 with 1 Axes>"
      ]
     },
     "metadata": {
      "needs_background": "light"
     },
     "output_type": "display_data"
    }
   ],
   "source": [
    "rf_simple.plot_feature_weights()"
   ]
  },
  {
   "cell_type": "code",
   "execution_count": 27,
   "metadata": {
    "ExecuteTime": {
     "end_time": "2019-08-15T20:52:29.620314Z",
     "start_time": "2019-08-15T20:52:29.381013Z"
    }
   },
   "outputs": [
    {
     "data": {
      "image/png": "[encoded data removed]",
      "text/plain": [
       "<Figure size 1152x360 with 1 Axes>"
      ]
     },
     "metadata": {
      "needs_background": "light"
     },
     "output_type": "display_data"
    }
   ],
   "source": [
    "gbc_simple.plot_feature_weights()"
   ]
  },
  {
   "cell_type": "markdown",
   "metadata": {},
   "source": [
    "---"
   ]
  }
 ],
 "metadata": {
  "hide_input": false,
  "kernelspec": {
   "display_name": "Python 3",
   "language": "python",
   "name": "python3"
  },
  "language_info": {
   "codemirror_mode": {
    "name": "ipython",
    "version": 3
   },
   "file_extension": ".py",
   "mimetype": "text/x-python",
   "name": "python",
   "nbconvert_exporter": "python",
   "pygments_lexer": "ipython3",
   "version": "3.7.3"
  },
  "toc": {
   "base_numbering": 1,
   "nav_menu": {},
   "number_sections": true,
   "sideBar": false,
   "skip_h1_title": true,
   "title_cell": "Table of Contents",
   "title_sidebar": "Contents",
   "toc_cell": true,
   "toc_position": {},
   "toc_section_display": true,
   "toc_window_display": false
  }
 },
 "nbformat": 4,
 "nbformat_minor": 2
}
