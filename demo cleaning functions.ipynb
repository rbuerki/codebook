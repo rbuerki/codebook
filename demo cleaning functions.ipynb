{
 "cells": [
  {
   "cell_type": "markdown",
   "metadata": {},
   "source": [
    "# Demo of Cleaning Functions"
   ]
  },
  {
   "cell_type": "markdown",
   "metadata": {},
   "source": [
    "This notebook has the purpose to showcase (and test!) the functions defined in `cleaning_functions.py`. These functions are designed for cleaning Pandas DataFrames in Python 3.*."
   ]
  },
  {
   "cell_type": "markdown",
   "metadata": {},
   "source": [
    "### Load necessary libraries and data"
   ]
  },
  {
   "cell_type": "code",
   "execution_count": 1,
   "metadata": {},
   "outputs": [],
   "source": [
    "import pandas as pd\n",
    "import numpy as np\n",
    "import matplotlib.pyplot as plt\n",
    "import seaborn as sns; sns.set()\n",
    "\n",
    "import cleaning_functions\n",
    "\n",
    "# for testing purpose only\n",
    "import time\n",
    "# start = time.time()\n",
    "# print('Duration: {} seconds'.format(time.time() - start))"
   ]
  },
  {
   "cell_type": "code",
   "execution_count": 2,
   "metadata": {},
   "outputs": [],
   "source": [
    "test_df = pd.read_csv('_data/realWorldTestData.csv', low_memory=False, parse_dates=True)"
   ]
  },
  {
   "cell_type": "markdown",
   "metadata": {},
   "source": [
    "### Have quick look at DataFrame content and structure"
   ]
  },
  {
   "cell_type": "code",
   "execution_count": 3,
   "metadata": {},
   "outputs": [
    {
     "data": {
      "text/html": [
       "<div>\n",
       "<style scoped>\n",
       "    .dataframe tbody tr th:only-of-type {\n",
       "        vertical-align: middle;\n",
       "    }\n",
       "\n",
       "    .dataframe tbody tr th {\n",
       "        vertical-align: top;\n",
       "    }\n",
       "\n",
       "    .dataframe thead th {\n",
       "        text-align: right;\n",
       "    }\n",
       "</style>\n",
       "<table border=\"1\" class=\"dataframe\">\n",
       "  <thead>\n",
       "    <tr style=\"text-align: right;\">\n",
       "      <th></th>\n",
       "      <th>car_nr</th>\n",
       "      <th>ref_dt</th>\n",
       "      <th>target_event</th>\n",
       "      <th>NUM_CONSEC_SERVICES</th>\n",
       "      <th>SUM_INVOICE_AMOUNT_IN_SERVICE</th>\n",
       "      <th>SUM_INVOICE_AMOUNT</th>\n",
       "      <th>NUM_EVENTS</th>\n",
       "      <th>FIRST_EVT</th>\n",
       "      <th>LAST_EVT</th>\n",
       "      <th>LAST_MILEAGE</th>\n",
       "      <th>...</th>\n",
       "      <th>Fahrzeugart</th>\n",
       "      <th>Altersklasse5J</th>\n",
       "      <th>Kanton</th>\n",
       "      <th>WEMFWirtschaftsgebiet</th>\n",
       "      <th>Altersklasse1J</th>\n",
       "      <th>PARTNER_LAT</th>\n",
       "      <th>PARTNER_LNG</th>\n",
       "      <th>PARTNER_ADDRESS</th>\n",
       "      <th>dist_metres</th>\n",
       "      <th>dist_seconds</th>\n",
       "    </tr>\n",
       "  </thead>\n",
       "  <tbody>\n",
       "    <tr>\n",
       "      <th>0</th>\n",
       "      <td>13845534.0</td>\n",
       "      <td>2015-09-13 00:00:00.0000000</td>\n",
       "      <td>CHURN</td>\n",
       "      <td>1</td>\n",
       "      <td>0.0</td>\n",
       "      <td>286.45</td>\n",
       "      <td>8</td>\n",
       "      <td>2009-02-23 00:00:00.0000000</td>\n",
       "      <td>2014-04-08 00:00:00.0000000</td>\n",
       "      <td>79790.0</td>\n",
       "      <td>...</td>\n",
       "      <td>0.0</td>\n",
       "      <td>1.0</td>\n",
       "      <td>14.0</td>\n",
       "      <td>42.0</td>\n",
       "      <td>24.0</td>\n",
       "      <td>47.699836</td>\n",
       "      <td>8.633246</td>\n",
       "      <td>Spitalstrasse 27, 8200 Schaffhausen, Switzerland</td>\n",
       "      <td>2805.0</td>\n",
       "      <td>302.0</td>\n",
       "    </tr>\n",
       "    <tr>\n",
       "      <th>1</th>\n",
       "      <td>13845535.0</td>\n",
       "      <td>2015-12-02 00:00:00.0000000</td>\n",
       "      <td>ACTIVE</td>\n",
       "      <td>5</td>\n",
       "      <td>0.0</td>\n",
       "      <td>0.00</td>\n",
       "      <td>10</td>\n",
       "      <td>2009-02-24 00:00:00.0000000</td>\n",
       "      <td>2014-08-04 00:00:00.0000000</td>\n",
       "      <td>48670.0</td>\n",
       "      <td>...</td>\n",
       "      <td>6.0</td>\n",
       "      <td>8.0</td>\n",
       "      <td>14.0</td>\n",
       "      <td>42.0</td>\n",
       "      <td>58.0</td>\n",
       "      <td>47.699836</td>\n",
       "      <td>8.633246</td>\n",
       "      <td>Spitalstrasse 27, 8200 Schaffhausen, Switzerland</td>\n",
       "      <td>2805.0</td>\n",
       "      <td>302.0</td>\n",
       "    </tr>\n",
       "    <tr>\n",
       "      <th>2</th>\n",
       "      <td>13845526.0</td>\n",
       "      <td>2016-04-06 00:00:00.0000000</td>\n",
       "      <td>CHURN</td>\n",
       "      <td>1</td>\n",
       "      <td>0.0</td>\n",
       "      <td>0.00</td>\n",
       "      <td>5</td>\n",
       "      <td>2009-02-23 00:00:00.0000000</td>\n",
       "      <td>2014-06-06 00:00:00.0000000</td>\n",
       "      <td>53000.0</td>\n",
       "      <td>...</td>\n",
       "      <td>NaN</td>\n",
       "      <td>NaN</td>\n",
       "      <td>NaN</td>\n",
       "      <td>NaN</td>\n",
       "      <td>NaN</td>\n",
       "      <td>47.699836</td>\n",
       "      <td>8.633246</td>\n",
       "      <td>Spitalstrasse 27, 8200 Schaffhausen, Switzerland</td>\n",
       "      <td>2805.0</td>\n",
       "      <td>302.0</td>\n",
       "    </tr>\n",
       "    <tr>\n",
       "      <th>3</th>\n",
       "      <td>13845518.0</td>\n",
       "      <td>2016-08-08 00:00:00.0000000</td>\n",
       "      <td>CHURN</td>\n",
       "      <td>1</td>\n",
       "      <td>0.0</td>\n",
       "      <td>0.00</td>\n",
       "      <td>6</td>\n",
       "      <td>2009-02-26 00:00:00.0000000</td>\n",
       "      <td>2014-10-13 00:00:00.0000000</td>\n",
       "      <td>49000.0</td>\n",
       "      <td>...</td>\n",
       "      <td>NaN</td>\n",
       "      <td>NaN</td>\n",
       "      <td>NaN</td>\n",
       "      <td>NaN</td>\n",
       "      <td>NaN</td>\n",
       "      <td>47.699836</td>\n",
       "      <td>8.633246</td>\n",
       "      <td>Spitalstrasse 27, 8200 Schaffhausen, Switzerland</td>\n",
       "      <td>2805.0</td>\n",
       "      <td>302.0</td>\n",
       "    </tr>\n",
       "    <tr>\n",
       "      <th>4</th>\n",
       "      <td>13851980.0</td>\n",
       "      <td>2015-11-29 00:00:00.0000000</td>\n",
       "      <td>CHURN</td>\n",
       "      <td>3</td>\n",
       "      <td>0.0</td>\n",
       "      <td>0.00</td>\n",
       "      <td>14</td>\n",
       "      <td>2009-10-13 00:00:00.0000000</td>\n",
       "      <td>2014-01-29 00:00:00.0000000</td>\n",
       "      <td>56145.0</td>\n",
       "      <td>...</td>\n",
       "      <td>NaN</td>\n",
       "      <td>NaN</td>\n",
       "      <td>NaN</td>\n",
       "      <td>NaN</td>\n",
       "      <td>NaN</td>\n",
       "      <td>47.699836</td>\n",
       "      <td>8.633246</td>\n",
       "      <td>Spitalstrasse 27, 8200 Schaffhausen, Switzerland</td>\n",
       "      <td>2805.0</td>\n",
       "      <td>302.0</td>\n",
       "    </tr>\n",
       "  </tbody>\n",
       "</table>\n",
       "<p>5 rows × 82 columns</p>\n",
       "</div>"
      ],
      "text/plain": [
       "       car_nr                       ref_dt target_event  NUM_CONSEC_SERVICES  \\\n",
       "0  13845534.0  2015-09-13 00:00:00.0000000        CHURN                    1   \n",
       "1  13845535.0  2015-12-02 00:00:00.0000000       ACTIVE                    5   \n",
       "2  13845526.0  2016-04-06 00:00:00.0000000        CHURN                    1   \n",
       "3  13845518.0  2016-08-08 00:00:00.0000000        CHURN                    1   \n",
       "4  13851980.0  2015-11-29 00:00:00.0000000        CHURN                    3   \n",
       "\n",
       "   SUM_INVOICE_AMOUNT_IN_SERVICE  SUM_INVOICE_AMOUNT  NUM_EVENTS  \\\n",
       "0                            0.0              286.45           8   \n",
       "1                            0.0                0.00          10   \n",
       "2                            0.0                0.00           5   \n",
       "3                            0.0                0.00           6   \n",
       "4                            0.0                0.00          14   \n",
       "\n",
       "                     FIRST_EVT                     LAST_EVT  LAST_MILEAGE  \\\n",
       "0  2009-02-23 00:00:00.0000000  2014-04-08 00:00:00.0000000       79790.0   \n",
       "1  2009-02-24 00:00:00.0000000  2014-08-04 00:00:00.0000000       48670.0   \n",
       "2  2009-02-23 00:00:00.0000000  2014-06-06 00:00:00.0000000       53000.0   \n",
       "3  2009-02-26 00:00:00.0000000  2014-10-13 00:00:00.0000000       49000.0   \n",
       "4  2009-10-13 00:00:00.0000000  2014-01-29 00:00:00.0000000       56145.0   \n",
       "\n",
       "      ...       Fahrzeugart  Altersklasse5J  Kanton WEMFWirtschaftsgebiet  \\\n",
       "0     ...               0.0             1.0    14.0                  42.0   \n",
       "1     ...               6.0             8.0    14.0                  42.0   \n",
       "2     ...               NaN             NaN     NaN                   NaN   \n",
       "3     ...               NaN             NaN     NaN                   NaN   \n",
       "4     ...               NaN             NaN     NaN                   NaN   \n",
       "\n",
       "  Altersklasse1J  PARTNER_LAT PARTNER_LNG  \\\n",
       "0           24.0    47.699836    8.633246   \n",
       "1           58.0    47.699836    8.633246   \n",
       "2            NaN    47.699836    8.633246   \n",
       "3            NaN    47.699836    8.633246   \n",
       "4            NaN    47.699836    8.633246   \n",
       "\n",
       "                                    PARTNER_ADDRESS dist_metres dist_seconds  \n",
       "0  Spitalstrasse 27, 8200 Schaffhausen, Switzerland      2805.0        302.0  \n",
       "1  Spitalstrasse 27, 8200 Schaffhausen, Switzerland      2805.0        302.0  \n",
       "2  Spitalstrasse 27, 8200 Schaffhausen, Switzerland      2805.0        302.0  \n",
       "3  Spitalstrasse 27, 8200 Schaffhausen, Switzerland      2805.0        302.0  \n",
       "4  Spitalstrasse 27, 8200 Schaffhausen, Switzerland      2805.0        302.0  \n",
       "\n",
       "[5 rows x 82 columns]"
      ]
     },
     "execution_count": 3,
     "metadata": {},
     "output_type": "execute_result"
    }
   ],
   "source": [
    "test_df.head(5)"
   ]
  },
  {
   "cell_type": "code",
   "execution_count": 4,
   "metadata": {},
   "outputs": [
    {
     "name": "stdout",
     "output_type": "stream",
     "text": [
      "<class 'pandas.core.frame.DataFrame'>\n",
      "RangeIndex: 56778 entries, 0 to 56777\n",
      "Data columns (total 82 columns):\n",
      "car_nr                           56778 non-null float64\n",
      "ref_dt                           56778 non-null object\n",
      "target_event                     56778 non-null object\n",
      "NUM_CONSEC_SERVICES              56778 non-null int64\n",
      "SUM_INVOICE_AMOUNT_IN_SERVICE    56778 non-null float64\n",
      "SUM_INVOICE_AMOUNT               56778 non-null float64\n",
      "NUM_EVENTS                       56778 non-null int64\n",
      "FIRST_EVT                        56778 non-null object\n",
      "LAST_EVT                         56778 non-null object\n",
      "LAST_MILEAGE                     56777 non-null float64\n",
      "MEAN_MILEAGE_PER_MNTH            56778 non-null float64\n",
      "AVG_DIFF_MNTH                    56778 non-null int64\n",
      "age_mnth                         56778 non-null int64\n",
      "KANTON_LICENCE_PLATE             55490 non-null object\n",
      "INSPECTION_INTERVAL_UID          56778 non-null object\n",
      "LIST_PRICE                       56777 non-null float64\n",
      "END_CUSTOMER_STATUS_UID          56777 non-null object\n",
      "ACCIDENT_CAR                     56778 non-null int64\n",
      "CAR_BRAND_UID                    56778 non-null object\n",
      "DESCRIPTION_DE                   56777 non-null object\n",
      "DESCRIPTION_DE2                  56778 non-null object\n",
      "FUEL_TYPE_UID                    56777 non-null object\n",
      "GEAR_TYPE_UID                    56777 non-null object\n",
      "WHEEL_DRIVE_UID                  56777 non-null object\n",
      "NUMBER_OF_DOORS_UID              55607 non-null float64\n",
      "GEAR_COUNT                       56777 non-null float64\n",
      "EXTERIOR_COLOR_DE                56774 non-null object\n",
      "INTERIOR_COLOR_DE                56773 non-null object\n",
      "BASE_MARGIN                      56777 non-null float64\n",
      "BUDGET_TYPE_IMPORT               56778 non-null object\n",
      "SALES_TYPE                       56778 non-null object\n",
      "SALES_TYPE_IMPORT                56778 non-null object\n",
      "CAR_OWNER_JOIN_NR                56778 non-null float64\n",
      "FUNCTION_TYPE_UID                2450 non-null object\n",
      "PERSON_LANGUAGE_UID              56778 non-null object\n",
      "TITLE                            1653 non-null object\n",
      "POSITION                         11741 non-null object\n",
      "EVT_BIRTH                        0 non-null float64\n",
      "PERSON_STREET                    56607 non-null object\n",
      "PERSON_STATE                     56129 non-null object\n",
      "PERSON_ZIP_CODE                  56778 non-null int64\n",
      "PERSON_CITY                      56778 non-null object\n",
      "PERSON_ADRESS_COUNT              56778 non-null float64\n",
      "ownerAge                         51661 non-null float64\n",
      "PARTNER_COMPANY_NR               56778 non-null int64\n",
      "NAME                             0 non-null float64\n",
      "ACTIVE                           56778 non-null int64\n",
      "REGION_UID                       56778 non-null object\n",
      "SECTOR_UID                       56778 non-null object\n",
      "PARTNER_LANGUAGE_UID             56778 non-null object\n",
      "IS_RETAIL_PARTNER                56778 non-null int64\n",
      "IS_PREFERRED_PARTNER             56778 non-null int64\n",
      "IS_DEALER                        56778 non-null int64\n",
      "IS_SERVICE_PARTNER               56778 non-null int64\n",
      "RATING_UID                       0 non-null float64\n",
      "PARTNER_ADRESS_TYPE_UID          56778 non-null object\n",
      "PARTNER_STREET                   56778 non-null object\n",
      "PARTNER_STATE                    56370 non-null object\n",
      "PARTNER_ZIP_CODE                 56778 non-null int64\n",
      "PARTNER_CITY                     56778 non-null object\n",
      "PARTNER_ADRESS_COUNT             56778 non-null int64\n",
      "Sprachregion                     38365 non-null object\n",
      "Haushaltstyp                     38365 non-null object\n",
      "Urbanitaet                       38365 non-null object\n",
      "Wohneigentumverhaeltnis          38365 non-null object\n",
      "Haushaltsgroesse                 38365 non-null float64\n",
      "KaufkraftindexGemeinde           38365 non-null float64\n",
      "Fahrzeugtyp                      38365 non-null object\n",
      "Haushaltseinkommen               38365 non-null float64\n",
      "Fahrzeugklasse                   38365 non-null object\n",
      "Lebensphase                      38365 non-null object\n",
      "HaushaltsgroesseFein             38365 non-null float64\n",
      "Fahrzeugart                      38364 non-null float64\n",
      "Altersklasse5J                   38364 non-null float64\n",
      "Kanton                           38364 non-null float64\n",
      "WEMFWirtschaftsgebiet            38364 non-null float64\n",
      "Altersklasse1J                   38364 non-null float64\n",
      "PARTNER_LAT                      56778 non-null float64\n",
      "PARTNER_LNG                      56778 non-null float64\n",
      "PARTNER_ADDRESS                  56778 non-null object\n",
      "dist_metres                      56778 non-null float64\n",
      "dist_seconds                     56162 non-null float64\n",
      "dtypes: float64(28), int64(14), object(40)\n",
      "memory usage: 35.5+ MB\n"
     ]
    }
   ],
   "source": [
    "test_df.info()"
   ]
  },
  {
   "cell_type": "code",
   "execution_count": 5,
   "metadata": {},
   "outputs": [
    {
     "name": "stdout",
     "output_type": "stream",
     "text": [
      "Total number of columns: 82\n",
      "- Columns with dtype numerical: 42\n",
      "- Columns with dtype object: 40\n"
     ]
    }
   ],
   "source": [
    "# call function to count columns with different datatypes\n",
    "cleaning_functions.count_dtypes(test_df)"
   ]
  },
  {
   "cell_type": "markdown",
   "metadata": {},
   "source": [
    "### Edit column names"
   ]
  },
  {
   "cell_type": "code",
   "execution_count": 6,
   "metadata": {},
   "outputs": [],
   "source": [
    "# call function to have more uniform column names\n",
    "cleaning_functions.edit_column_names(test_df)"
   ]
  },
  {
   "cell_type": "code",
   "execution_count": 7,
   "metadata": {},
   "outputs": [
    {
     "data": {
      "text/plain": [
       "Index(['car_nr', 'ref_dt', 'target_event', 'num_consec_services',\n",
       "       'sum_invoice_amount_in_service', 'sum_invoice_amount', 'num_events',\n",
       "       'first_evt', 'last_evt', 'last_mileage', 'mean_mileage_per_mnth',\n",
       "       'avg_diff_mnth', 'age_mnth', 'kanton_licence_plate',\n",
       "       'inspection_interval_uid', 'list_price', 'end_customer_status_uid',\n",
       "       'accident_car', 'car_brand_uid', 'description_de', 'description_de2',\n",
       "       'fuel_type_uid', 'gear_type_uid', 'wheel_drive_uid',\n",
       "       'number_of_doors_uid', 'gear_count', 'exterior_color_de',\n",
       "       'interior_color_de', 'base_margin', 'budget_type_import', 'sales_type',\n",
       "       'sales_type_import', 'car_owner_join_nr', 'function_type_uid',\n",
       "       'person_language_uid', 'title', 'position', 'evt_birth',\n",
       "       'person_street', 'person_state', 'person_zip_code', 'person_city',\n",
       "       'person_adress_count', 'ownerage', 'partner_company_nr', 'name',\n",
       "       'active', 'region_uid', 'sector_uid', 'partner_language_uid',\n",
       "       'is_retail_partner', 'is_preferred_partner', 'is_dealer',\n",
       "       'is_service_partner', 'rating_uid', 'partner_adress_type_uid',\n",
       "       'partner_street', 'partner_state', 'partner_zip_code', 'partner_city',\n",
       "       'partner_adress_count', 'sprachregion', 'haushaltstyp', 'urbanitaet',\n",
       "       'wohneigentumverhaeltnis', 'haushaltsgroesse', 'kaufkraftindexgemeinde',\n",
       "       'fahrzeugtyp', 'haushaltseinkommen', 'fahrzeugklasse', 'lebensphase',\n",
       "       'haushaltsgroessefein', 'fahrzeugart', 'altersklasse5j', 'kanton',\n",
       "       'wemfwirtschaftsgebiet', 'altersklasse1j', 'partner_lat', 'partner_lng',\n",
       "       'partner_address', 'dist_metres', 'dist_seconds'],\n",
       "      dtype='object')"
      ]
     },
     "execution_count": 7,
     "metadata": {},
     "output_type": "execute_result"
    }
   ],
   "source": [
    "# check\n",
    "test_df.columns"
   ]
  },
  {
   "cell_type": "markdown",
   "metadata": {},
   "source": [
    "### Change datatypes"
   ]
  },
  {
   "cell_type": "code",
   "execution_count": 8,
   "metadata": {},
   "outputs": [],
   "source": [
    "test_test = test_df.copy()\n",
    "\n",
    "# assign the columns to be changed to the respective list of column names\n",
    "cols_to_category = ['fuel_type_uid', 'gear_type_uid']\n",
    "cols_to_object = ['car_nr']\n",
    "cols_to_integer = ['sum_invoice_amount_in_service']\n",
    "cols_to_float = ['avg_diff_mnth']\n",
    "cols_to_datetime = ['first_evt', 'last_evt']\n",
    "\n",
    "# call the function\n",
    "cleaning_functions.change_dtypes(test_df, cols_to_category=cols_to_category, \n",
    "                                 cols_to_object=cols_to_object, cols_to_integer=cols_to_integer,\n",
    "                                 cols_to_float=cols_to_float, cols_to_datetime=cols_to_datetime, \n",
    "                                 datetime_pattern='%Y/%m/%d')"
   ]
  },
  {
   "cell_type": "code",
   "execution_count": 9,
   "metadata": {},
   "outputs": [
    {
     "name": "stdout",
     "output_type": "stream",
     "text": [
      "Total number of columns: 82\n",
      "- Columns with dtype numerical: 41\n",
      "- Columns with dtype categorical: 2\n",
      "- Columns with dtype object: 37\n",
      "- Columns with dtype datetime: 2\n"
     ]
    }
   ],
   "source": [
    "# check\n",
    "cleaning_functions.count_dtypes(test_df)"
   ]
  },
  {
   "cell_type": "markdown",
   "metadata": {},
   "source": [
    "### Delete columns"
   ]
  },
  {
   "cell_type": "markdown",
   "metadata": {},
   "source": [
    "I like to delete columns in multiple steps during EDA. To have a complete list of all deleted records in the end I proceed as shown in the next few cells."
   ]
  },
  {
   "cell_type": "code",
   "execution_count": 10,
   "metadata": {},
   "outputs": [],
   "source": [
    "# assign the columns to be deleted\n",
    "cols_to_delete = ['EVT_BIRTH', 'NAME']\n",
    "\n",
    "#call the function\n",
    "cleaning_functions.delete_columns(test_df, cols_to_delete=cols_to_delete)"
   ]
  },
  {
   "cell_type": "code",
   "execution_count": 11,
   "metadata": {},
   "outputs": [
    {
     "data": {
      "text/plain": [
       "'dist_seconds successfully deleted'"
      ]
     },
     "metadata": {},
     "output_type": "display_data"
    }
   ],
   "source": [
    "# append more columns to delete\n",
    "for col in ['RATING_UID', 'dist_seconds']:\n",
    "    cols_to_delete.append(col)\n",
    "\n",
    "# call the function again\n",
    "cleaning_functions.delete_columns(test_df, cols_to_delete=cols_to_delete)"
   ]
  },
  {
   "cell_type": "code",
   "execution_count": 12,
   "metadata": {},
   "outputs": [
    {
     "data": {
      "text/plain": [
       "['EVT_BIRTH', 'NAME', 'RATING_UID', 'dist_seconds']"
      ]
     },
     "execution_count": 12,
     "metadata": {},
     "output_type": "execute_result"
    }
   ],
   "source": [
    "# look at complete list of all deleted columns\n",
    "cols_to_delete"
   ]
  },
  {
   "cell_type": "code",
   "execution_count": 13,
   "metadata": {},
   "outputs": [
    {
     "data": {
      "text/plain": [
       "81"
      ]
     },
     "execution_count": 13,
     "metadata": {},
     "output_type": "execute_result"
    }
   ],
   "source": [
    "#test\n",
    "test_df.shape[1]"
   ]
  },
  {
   "cell_type": "markdown",
   "metadata": {},
   "source": [
    "### Handle Missing Values"
   ]
  },
  {
   "cell_type": "code",
   "execution_count": 14,
   "metadata": {},
   "outputs": [
    {
     "data": {
      "image/png": "[encoded data removed]",
      "text/plain": [
       "<Figure size 1296x432 with 1 Axes>"
      ]
     },
     "metadata": {
      "needs_background": "light"
     },
     "output_type": "display_data"
    }
   ],
   "source": [
    "# call function to plot with heatmap showing missing values\n",
    "cleaning_functions.plot_NaN(test_df)"
   ]
  },
  {
   "cell_type": "code",
   "execution_count": 15,
   "metadata": {},
   "outputs": [
    {
     "name": "stdout",
     "output_type": "stream",
     "text": [
      "Number of NaN per column:\n"
     ]
    },
    {
     "ename": "ValueError",
     "evalue": "cannot switch from automatic field numbering to manual field specification",
     "output_type": "error",
     "traceback": [
      "\u001b[1;31m---------------------------------------------------------------------------\u001b[0m",
      "\u001b[1;31mValueError\u001b[0m                                Traceback (most recent call last)",
      "\u001b[1;32m<ipython-input-15-684f1aaaf140>\u001b[0m in \u001b[0;36m<module>\u001b[1;34m()\u001b[0m\n\u001b[0;32m      1\u001b[0m \u001b[1;31m# call function to show columns containing missing values und respective number of them\u001b[0m\u001b[1;33m\u001b[0m\u001b[1;33m\u001b[0m\u001b[0m\n\u001b[1;32m----> 2\u001b[1;33m \u001b[0mcleaning_functions\u001b[0m\u001b[1;33m.\u001b[0m\u001b[0mlist_NaN\u001b[0m\u001b[1;33m(\u001b[0m\u001b[0mtest_df\u001b[0m\u001b[1;33m)\u001b[0m\u001b[1;33m\u001b[0m\u001b[0m\n\u001b[0m",
      "\u001b[1;32m~\\OneDrive\\python\\codebook\\cleaning_functions.py\u001b[0m in \u001b[0;36mlist_NaN\u001b[1;34m(df)\u001b[0m\n\u001b[0;32m    138\u001b[0m         \u001b[0mnan_count\u001b[0m \u001b[1;33m=\u001b[0m \u001b[0mdf\u001b[0m\u001b[1;33m[\u001b[0m\u001b[0mcol\u001b[0m\u001b[1;33m]\u001b[0m\u001b[1;33m.\u001b[0m\u001b[0misnull\u001b[0m\u001b[1;33m(\u001b[0m\u001b[1;33m)\u001b[0m\u001b[1;33m.\u001b[0m\u001b[0msum\u001b[0m\u001b[1;33m(\u001b[0m\u001b[1;33m)\u001b[0m\u001b[1;33m\u001b[0m\u001b[0m\n\u001b[0;32m    139\u001b[0m         \u001b[1;32mif\u001b[0m \u001b[0mnan_count\u001b[0m \u001b[1;33m>\u001b[0m \u001b[1;36m0\u001b[0m\u001b[1;33m:\u001b[0m\u001b[1;33m\u001b[0m\u001b[0m\n\u001b[1;32m--> 140\u001b[1;33m             \u001b[0mprint\u001b[0m\u001b[1;33m(\u001b[0m\u001b[1;34m\"{}: {7:.0f} ({0:.2f}%)\"\u001b[0m\u001b[1;33m.\u001b[0m\u001b[0mformat\u001b[0m\u001b[1;33m(\u001b[0m\u001b[0mdf\u001b[0m\u001b[1;33m[\u001b[0m\u001b[0mcol\u001b[0m\u001b[1;33m]\u001b[0m\u001b[1;33m.\u001b[0m\u001b[0mname\u001b[0m\u001b[1;33m,\u001b[0m \u001b[0mnan_count\u001b[0m\u001b[1;33m,\u001b[0m \u001b[0mnan_count\u001b[0m\u001b[1;33m/\u001b[0m\u001b[0mlen\u001b[0m\u001b[1;33m(\u001b[0m\u001b[0mdf\u001b[0m\u001b[1;33m)\u001b[0m\u001b[1;33m)\u001b[0m\u001b[1;33m)\u001b[0m\u001b[1;33m\u001b[0m\u001b[0m\n\u001b[0m\u001b[0;32m    141\u001b[0m \u001b[1;33m\u001b[0m\u001b[0m\n\u001b[0;32m    142\u001b[0m \u001b[1;33m\u001b[0m\u001b[0m\n",
      "\u001b[1;31mValueError\u001b[0m: cannot switch from automatic field numbering to manual field specification"
     ]
    }
   ],
   "source": [
    "# call function to show columns containing missing values und respective number of them\n",
    "cleaning_functions.list_NaN(test_df)"
   ]
  },
  {
   "cell_type": "code",
   "execution_count": 39,
   "metadata": {},
   "outputs": [],
   "source": [
    "def list_NaN(df):\n",
    "    \"\"\"Display the columns with missing values and respective number of NaN.\n",
    "    Params\n",
    "        ======\n",
    "            df: DataFrame\n",
    "    \"\"\"\n",
    "    print(\"Number of NaN per column:\")\n",
    "    for col in df:\n",
    "        nan_count = df[col].isnull().sum()\n",
    "        if nan_count > 0:\n",
    "            print(\"hello\")\n",
    "            print(\"{}: {7:.0f} ({0:.2f}%)\".format(df[col].name, nan_count, nan_count/len(df)))\n",
    "        return nan_count"
   ]
  },
  {
   "cell_type": "code",
   "execution_count": 40,
   "metadata": {},
   "outputs": [
    {
     "name": "stdout",
     "output_type": "stream",
     "text": [
      "Number of NaN per column:\n"
     ]
    },
    {
     "data": {
      "text/plain": [
       "0"
      ]
     },
     "execution_count": 40,
     "metadata": {},
     "output_type": "execute_result"
    }
   ],
   "source": [
    "list_NaN(test_df)"
   ]
  },
  {
   "cell_type": "code",
   "execution_count": 36,
   "metadata": {},
   "outputs": [
    {
     "ename": "NameError",
     "evalue": "name 'nan_count' is not defined",
     "output_type": "error",
     "traceback": [
      "\u001b[1;31m---------------------------------------------------------------------------\u001b[0m",
      "\u001b[1;31mNameError\u001b[0m                                 Traceback (most recent call last)",
      "\u001b[1;32m<ipython-input-36-22f09529b2a7>\u001b[0m in \u001b[0;36m<module>\u001b[1;34m()\u001b[0m\n\u001b[1;32m----> 1\u001b[1;33m \u001b[0mnan_count\u001b[0m\u001b[1;33m\u001b[0m\u001b[0m\n\u001b[0m",
      "\u001b[1;31mNameError\u001b[0m: name 'nan_count' is not defined"
     ]
    }
   ],
   "source": [
    "nan_count"
   ]
  },
  {
   "cell_type": "code",
   "execution_count": null,
   "metadata": {},
   "outputs": [],
   "source": []
  }
 ],
 "metadata": {
  "kernelspec": {
   "display_name": "Python [conda env:Anaconda3]",
   "language": "python",
   "name": "conda-env-Anaconda3-py"
  },
  "language_info": {
   "codemirror_mode": {
    "name": "ipython",
    "version": 3
   },
   "file_extension": ".py",
   "mimetype": "text/x-python",
   "name": "python",
   "nbconvert_exporter": "python",
   "pygments_lexer": "ipython3",
   "version": "3.6.3"
  }
 },
 "nbformat": 4,
 "nbformat_minor": 2
}
